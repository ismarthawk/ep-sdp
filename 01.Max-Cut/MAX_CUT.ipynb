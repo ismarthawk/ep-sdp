{
  "cells": [
    {
      "cell_type": "markdown",
      "metadata": {
        "id": "6xdKcx8Mwjr4"
      },
      "source": [
        "# MAX-CUT inference"
      ]
    },
    {
      "cell_type": "code",
      "execution_count": null,
      "metadata": {
        "colab": {
          "base_uri": "https://localhost:8080/"
        },
        "id": "L6u9Qmywwjr6",
        "outputId": "8497b252-b398-4fd8-c67d-9e4cbe6abc70"
      },
      "outputs": [
        {
          "output_type": "stream",
          "name": "stdout",
          "text": [
            "Looking in indexes: https://pypi.org/simple, https://us-python.pkg.dev/colab-wheels/public/simple/\n",
            "Requirement already satisfied: networkx in /usr/local/lib/python3.8/dist-packages (3.0)\n"
          ]
        }
      ],
      "source": [
        "pip install networkx"
      ]
    },
    {
      "cell_type": "code",
      "execution_count": null,
      "metadata": {
        "colab": {
          "base_uri": "https://localhost:8080/"
        },
        "id": "9bqvO4QIwjr-",
        "outputId": "68abc27d-3037-4fbc-f2cf-62b722a0d0e9"
      },
      "outputs": [
        {
          "output_type": "stream",
          "name": "stdout",
          "text": [
            "Looking in indexes: https://pypi.org/simple, https://us-python.pkg.dev/colab-wheels/public/simple/\n",
            "Requirement already satisfied: cvxpy in /usr/local/lib/python3.8/dist-packages (1.2.3)\n",
            "Requirement already satisfied: osqp>=0.4.1 in /usr/local/lib/python3.8/dist-packages (from cvxpy) (0.6.2.post0)\n",
            "Requirement already satisfied: numpy>=1.15 in /usr/local/lib/python3.8/dist-packages (from cvxpy) (1.22.4)\n",
            "Requirement already satisfied: ecos>=2 in /usr/local/lib/python3.8/dist-packages (from cvxpy) (2.0.12)\n",
            "Requirement already satisfied: scipy>=1.1.0 in /usr/local/lib/python3.8/dist-packages (from cvxpy) (1.7.3)\n",
            "Requirement already satisfied: setuptools<=64.0.2 in /usr/local/lib/python3.8/dist-packages (from cvxpy) (57.4.0)\n",
            "Requirement already satisfied: scs>=1.1.6 in /usr/local/lib/python3.8/dist-packages (from cvxpy) (3.2.2)\n",
            "Requirement already satisfied: qdldl in /usr/local/lib/python3.8/dist-packages (from osqp>=0.4.1->cvxpy) (0.1.5.post3)\n"
          ]
        }
      ],
      "source": [
        "pip install cvxpy"
      ]
    },
    {
      "cell_type": "code",
      "execution_count": null,
      "metadata": {
        "id": "_nR8CWaQwjsA"
      },
      "outputs": [],
      "source": []
    },
    {
      "cell_type": "code",
      "execution_count": null,
      "metadata": {
        "id": "2tfzQzyCwjsB"
      },
      "outputs": [],
      "source": [
        "import numpy as np\n",
        "import networkx as nx\n",
        "from scipy.sparse import csr_matrix\n",
        "from scipy.linalg import sqrtm\n",
        "import cvxpy as cp\n",
        "from sklearn import preprocessing as pp\n",
        "import time"
      ]
    },
    {
      "cell_type": "markdown",
      "metadata": {
        "id": "IK2XMueowjsD"
      },
      "source": [
        "## Generate a random graph and solve the Linear Programming Problem"
      ]
    },
    {
      "cell_type": "code",
      "source": [
        "n = int(input(\"Enter number of nodes in graph : \"))\n",
        "p = float(input(\"Enter the probability of edge between nodes : \"))\n",
        "seed = int(input(\"Enter seed value to generate random graph : \"))"
      ],
      "metadata": {
        "colab": {
          "base_uri": "https://localhost:8080/"
        },
        "id": "Nn4WlfG5w9Ox",
        "outputId": "fbbf4716-2f0a-4745-c76a-c77b3dddc8bf"
      },
      "execution_count": null,
      "outputs": [
        {
          "name": "stdout",
          "output_type": "stream",
          "text": [
            "Enter number of nodes in graph : 200\n",
            "Enter the probability of edge between nodes : 0.5\n",
            "Enter seed value to generate random graph : 234\n"
          ]
        }
      ]
    },
    {
      "cell_type": "code",
      "source": [
        "graph = nx.gnp_random_graph(n, p, seed = seed)"
      ],
      "metadata": {
        "id": "sEgWHGVcw__0"
      },
      "execution_count": null,
      "outputs": []
    },
    {
      "cell_type": "code",
      "source": [
        "# print(\"Graph is : \")\n",
        "# nx.draw(graph)"
      ],
      "metadata": {
        "id": "jfYt3zVrxU2H"
      },
      "execution_count": null,
      "outputs": []
    },
    {
      "cell_type": "code",
      "source": [
        "adj =nx.to_numpy_array(graph)\n",
        "adj"
      ],
      "metadata": {
        "colab": {
          "base_uri": "https://localhost:8080/"
        },
        "id": "I3M5UBU6xXT5",
        "outputId": "7b20ad8f-4f5b-4106-f613-169c022380f5"
      },
      "execution_count": null,
      "outputs": [
        {
          "output_type": "execute_result",
          "data": {
            "text/plain": [
              "array([[0., 1., 0., ..., 1., 0., 1.],\n",
              "       [1., 0., 0., ..., 0., 1., 0.],\n",
              "       [0., 0., 0., ..., 1., 0., 1.],\n",
              "       ...,\n",
              "       [1., 0., 1., ..., 0., 1., 0.],\n",
              "       [0., 1., 0., ..., 1., 0., 1.],\n",
              "       [1., 0., 1., ..., 0., 1., 0.]])"
            ]
          },
          "metadata": {},
          "execution_count": 126
        }
      ]
    },
    {
      "cell_type": "code",
      "source": [],
      "metadata": {
        "id": "cZc11aoxxaZm"
      },
      "execution_count": null,
      "outputs": []
    },
    {
      "cell_type": "markdown",
      "source": [
        "## Converting this to a Binary Quadratic Optimization Problem"
      ],
      "metadata": {
        "id": "W3fMFTGAxpnX"
      }
    },
    {
      "cell_type": "code",
      "source": [
        "class BinaryQP(object) : \n",
        "    def __init__(self, graph) : \n",
        "        \n",
        "        self.graph = graph\n",
        "        \n",
        "        self.adj = nx.to_numpy_array(graph)\n",
        "        self.n = len(adj)\n",
        "        \n",
        "        self.pot = np.array([0 for i in range(self.n)])\n",
        "        self.constant = 0\n",
        "        \n",
        "        cost_matrix = np.zeros((n+1, n+1))\n",
        "        cost_matrix[np.ix_(list(range(n)),list(range(n)))] = self.adj\n",
        "        cost_matrix[np.ix_([n],list(range(n)))] = [i/2 for i in self.pot]\n",
        "        cost_matrix[np.ix_(list(range(n))),[n]] = [i/2 for i in self.pot]\n",
        "        cost_matrix[n][n] = self.constant\n",
        "        \n",
        "        self.cost_matrix = cost_matrix\n",
        "        \n",
        "    def __str__(self) : \n",
        "        print(\"The Cost Matrix (S) is :\")\n",
        "        return str(self.cost_matrix)"
      ],
      "metadata": {
        "id": "aoyhAWyVxo-P"
      },
      "execution_count": null,
      "outputs": []
    },
    {
      "cell_type": "code",
      "source": [
        "problem = BinaryQP(graph)\n",
        "print(problem)"
      ],
      "metadata": {
        "colab": {
          "base_uri": "https://localhost:8080/"
        },
        "id": "BtQfWAKGxoy6",
        "outputId": "a52d86bc-fd2a-4235-cedb-b4aa5a8266c0"
      },
      "execution_count": null,
      "outputs": [
        {
          "output_type": "stream",
          "name": "stdout",
          "text": [
            "The Cost Matrix (S) is :\n",
            "[[0. 1. 0. ... 0. 1. 0.]\n",
            " [1. 0. 0. ... 1. 0. 0.]\n",
            " [0. 0. 0. ... 0. 1. 0.]\n",
            " ...\n",
            " [0. 1. 0. ... 0. 1. 0.]\n",
            " [1. 0. 1. ... 1. 0. 0.]\n",
            " [0. 0. 0. ... 0. 0. 0.]]\n"
          ]
        }
      ]
    },
    {
      "cell_type": "markdown",
      "source": [
        "## Solving using Semidefinite programming"
      ],
      "metadata": {
        "id": "EatGMWD1x_jX"
      }
    },
    {
      "cell_type": "code",
      "source": [
        "def solveUsingSDP(problem : BinaryQP) : \n",
        "    cost_matrix = problem.cost_matrix\n",
        "    n = len(cost_matrix)\n",
        "    X = cp.Variable((n, n), symmetric = True)\n",
        "    obj = cp.trace(cost_matrix*(1-X))\n",
        "    constraints = [\n",
        "        cp.diag(X) == 1\n",
        "    ]\n",
        "    constraints += [\n",
        "        X - 0.0001*np.eye(n) >> 0\n",
        "    ]\n",
        "    prob = cp.Problem(cp.Maximize(obj), constraints)\n",
        "    print('started SDp')\n",
        "    prob.solve(solver='SCS')\n",
        "    L = np.linalg.cholesky(X.value)\n",
        "    R = np.random.normal(size=(n,1))\n",
        "    rounded = np.dot(L, R)\n",
        "    labels = np.sign(rounded[:,0])\n",
        "    # print(\"Optimal value: \", prob.value)\n",
        "    return labels, prob.value"
      ],
      "metadata": {
        "id": "e9fXz8qtxolx"
      },
      "execution_count": null,
      "outputs": []
    },
    {
      "cell_type": "code",
      "source": [
        "labels, optValue = solveUsingSDP(problem)"
      ],
      "metadata": {
        "colab": {
          "base_uri": "https://localhost:8080/"
        },
        "id": "9N8piuS7yFAk",
        "outputId": "c1651564-c99f-4365-d8ee-a13a0c436767"
      },
      "execution_count": null,
      "outputs": [
        {
          "output_type": "stream",
          "name": "stderr",
          "text": [
            "/usr/local/lib/python3.8/dist-packages/cvxpy/expressions/expression.py:593: UserWarning: \n",
            "This use of ``*`` has resulted in matrix multiplication.\n",
            "Using ``*`` for matrix multiplication has been deprecated since CVXPY 1.1.\n",
            "    Use ``*`` for matrix-scalar and vector-scalar multiplication.\n",
            "    Use ``@`` for matrix-matrix and matrix-vector multiplication.\n",
            "    Use ``multiply`` for elementwise multiplication.\n",
            "This code path has been hit 5 times so far.\n",
            "\n",
            "  warnings.warn(msg, UserWarning)\n"
          ]
        },
        {
          "output_type": "stream",
          "name": "stdout",
          "text": [
            "started SDp\n"
          ]
        }
      ]
    },
    {
      "cell_type": "code",
      "source": [
        "print(optValue)"
      ],
      "metadata": {
        "id": "ys_kQH0tyNoj",
        "colab": {
          "base_uri": "https://localhost:8080/"
        },
        "outputId": "29142101-ec2d-4651-8723-0cf128fa1b3d"
      },
      "execution_count": null,
      "outputs": [
        {
          "output_type": "stream",
          "name": "stdout",
          "text": [
            "22524.943119943804\n"
          ]
        }
      ]
    },
    {
      "cell_type": "code",
      "source": [
        "print(labels)"
      ],
      "metadata": {
        "id": "jmV2Ly2AyfPS",
        "colab": {
          "base_uri": "https://localhost:8080/"
        },
        "outputId": "ad7d9975-1bad-4dae-fdf9-09ceb0db5480"
      },
      "execution_count": null,
      "outputs": [
        {
          "output_type": "stream",
          "name": "stdout",
          "text": [
            "[ 1.  1.  1. -1. -1. -1. -1. -1.  1. -1.  1.  1. -1. -1. -1. -1.  1.  1.\n",
            "  1. -1. -1.  1. -1.  1.  1.  1.  1.  1.  1.  1.  1.  1. -1.  1.  1.  1.\n",
            "  1. -1.  1.  1. -1. -1. -1.  1.  1. -1.  1.  1. -1.  1.  1.  1.  1. -1.\n",
            " -1. -1.  1. -1. -1. -1.  1. -1. -1.  1. -1.  1. -1.  1.  1.  1.  1.  1.\n",
            " -1. -1. -1. -1.  1. -1. -1.  1.  1.  1.  1.  1. -1.  1.  1.  1.  1. -1.\n",
            "  1. -1. -1. -1.  1.  1.  1. -1. -1. -1. -1.  1.  1.  1. -1. -1.  1.  1.\n",
            " -1. -1.  1.  1. -1.  1.  1. -1.  1. -1. -1. -1. -1. -1. -1.  1.  1. -1.\n",
            "  1. -1.  1.  1.  1.  1.  1. -1. -1. -1.  1. -1. -1. -1.  1.  1.  1.  1.\n",
            "  1.  1. -1. -1.  1. -1. -1.  1. -1. -1. -1.  1. -1. -1. -1.  1.  1. -1.\n",
            "  1.  1.  1.  1. -1. -1. -1.  1.  1. -1. -1.  1. -1.  1. -1. -1. -1. -1.\n",
            " -1. -1. -1.  1. -1.  1. -1. -1. -1.  1.  1.  1. -1.  1. -1. -1. -1. -1.\n",
            "  1. -1. -1.]\n"
          ]
        }
      ]
    },
    {
      "cell_type": "markdown",
      "source": [
        "#### Finding the Cut value for the solved problm"
      ],
      "metadata": {
        "id": "IvaTapLuyxHU"
      }
    },
    {
      "cell_type": "code",
      "source": [
        "res = 0\n",
        "for n1 in range(n) : \n",
        "  for n2 in range(n1 + 1, n) : \n",
        "    if adj[n1][n2]  and labels[n1] != labels[n2] : \n",
        "      res += 1\n",
        "print(res)"
      ],
      "metadata": {
        "id": "bDsTGzPmyqwF",
        "colab": {
          "base_uri": "https://localhost:8080/"
        },
        "outputId": "96df6350-2b34-4114-fc64-31e74e64003e"
      },
      "execution_count": null,
      "outputs": [
        {
          "output_type": "stream",
          "name": "stdout",
          "text": [
            "5457\n"
          ]
        }
      ]
    },
    {
      "cell_type": "code",
      "source": [
        "print(res)"
      ],
      "metadata": {
        "id": "ZTfssZdvzE9Z",
        "colab": {
          "base_uri": "https://localhost:8080/"
        },
        "outputId": "913e7550-3b06-4676-b41e-da2007d55a2f"
      },
      "execution_count": null,
      "outputs": [
        {
          "output_type": "stream",
          "name": "stdout",
          "text": [
            "5457\n"
          ]
        }
      ]
    },
    {
      "cell_type": "code",
      "source": [
        "print(len(labels))"
      ],
      "metadata": {
        "id": "5XnYsdxpzGck",
        "colab": {
          "base_uri": "https://localhost:8080/"
        },
        "outputId": "a85e8927-9e34-4072-b3d9-bf64c106b7a0"
      },
      "execution_count": null,
      "outputs": [
        {
          "output_type": "stream",
          "name": "stdout",
          "text": [
            "201\n"
          ]
        }
      ]
    },
    {
      "cell_type": "code",
      "source": [],
      "metadata": {
        "id": "Xypeh_-PzNv6"
      },
      "execution_count": null,
      "outputs": []
    },
    {
      "cell_type": "code",
      "source": [],
      "metadata": {
        "id": "MazTz8RwzNtU"
      },
      "execution_count": null,
      "outputs": []
    },
    {
      "cell_type": "markdown",
      "source": [
        "## Solving using EP-SDP"
      ],
      "metadata": {
        "id": "cofKYRERzObN"
      }
    },
    {
      "cell_type": "code",
      "source": [],
      "metadata": {
        "id": "MiUWKds40dAY"
      },
      "execution_count": null,
      "outputs": []
    },
    {
      "cell_type": "code",
      "source": [],
      "metadata": {
        "id": "Jf8SKCIJE0Al"
      },
      "execution_count": null,
      "outputs": []
    },
    {
      "cell_type": "code",
      "source": [],
      "metadata": {
        "id": "oGVQPmunEz9h"
      },
      "execution_count": null,
      "outputs": []
    },
    {
      "cell_type": "code",
      "source": [],
      "metadata": {
        "id": "YWX5JB_CEz6G"
      },
      "execution_count": null,
      "outputs": []
    },
    {
      "cell_type": "code",
      "source": [
        "def solveUsingEPSDP(problem, rank,la, ga, steps):\n",
        "    C = problem.cost_matrix\n",
        "    D = np.diag(np.sum(C, axis=0))\n",
        "    # print(D)\n",
        "    L = D - C\n",
        "    C = L\n",
        "    V = np.random.normal(0, 1, (rank, len(C)))\n",
        "    V = np.transpose(pp.normalize(np.transpose(V), norm='l2'))\n",
        "    step = 1/np.linalg.norm(C) \n",
        "    \n",
        "    \n",
        "    for _ in range(10) : \n",
        "        # print('outer')\n",
        "        gradient = 2*np.matmul(V, C) - la*PenGrad(V) \n",
        "        print(np.trace(gradient))\n",
        "        # for _ in range(steps):\n",
        "            # print('inner')\n",
        "            gradient = 2*np.matmul(V, C) - la*PenGrad(V); \n",
        "            V = V + step*(gradient)\n",
        "            V = np.transpose(pp.normalize(np.transpose(V), norm='l2'))\n",
        "        \n",
        "        la = la*ga\n",
        "        \n",
        "    U, s, Vt = np.linalg.svd(V)\n",
        "    v1 = Vt.T[:, 0]\n",
        "    return v1\n",
        "\n",
        "\n",
        "\n",
        "def PenGrad(V):\n",
        "    alpha = 3\n",
        "    U1, d, U2 = np.linalg.svd(V, full_matrices=False)\n",
        "    D = np.diag(d)    \n",
        "    return (alpha/(1-alpha))*(np.dot(U1, np.dot(np.linalg.matrix_power(D, 2*alpha-1),U2))/np.power(np.trace(np.dot(D, D)), alpha) -  np.trace(np.linalg.matrix_power(D, 2*alpha))*V/np.power(np.trace(np.dot(D, D)), alpha+1) )\n",
        "    "
      ],
      "metadata": {
        "id": "c0wujb2lEz3W"
      },
      "execution_count": null,
      "outputs": []
    },
    {
      "cell_type": "code",
      "source": [
        "res = solveUsingEPSDP(problem, 20, 10, 5, 100 )"
      ],
      "metadata": {
        "id": "Um_brZDVEz0T",
        "colab": {
          "base_uri": "https://localhost:8080/"
        },
        "outputId": "01e40dc5-f3fc-4f47-e132-5ac6540f577e"
      },
      "execution_count": null,
      "outputs": [
        {
          "output_type": "stream",
          "name": "stdout",
          "text": [
            "27.817861565536464\n",
            "27.81810133668977\n",
            "27.819300192456424\n",
            "27.825294471289673\n",
            "27.855265865455742\n"
          ]
        }
      ]
    },
    {
      "cell_type": "code",
      "source": [
        "res.shape"
      ],
      "metadata": {
        "id": "87rmSvMuF5XC",
        "colab": {
          "base_uri": "https://localhost:8080/"
        },
        "outputId": "4a58be6d-543e-4f43-d817-148b90d97f3d"
      },
      "execution_count": null,
      "outputs": [
        {
          "output_type": "execute_result",
          "data": {
            "text/plain": [
              "(201,)"
            ]
          },
          "metadata": {},
          "execution_count": 177
        }
      ]
    },
    {
      "cell_type": "code",
      "source": [
        "print(res)"
      ],
      "metadata": {
        "id": "5ew6xCLXF9zr",
        "colab": {
          "base_uri": "https://localhost:8080/"
        },
        "outputId": "aa3a5bf1-c7a0-4ce2-d7c0-9605372dbeda"
      },
      "execution_count": null,
      "outputs": [
        {
          "output_type": "stream",
          "name": "stdout",
          "text": [
            "[-0.05306015 -0.01299321  0.02579894  0.05674399  0.01268715  0.0444277\n",
            "  0.03078239  0.04316983 -0.00065947  0.07217825 -0.10921415 -0.14810116\n",
            "  0.01734227  0.05846288 -0.06529645 -0.04157142  0.0033221   0.07021152\n",
            "  0.08937798 -0.06399805 -0.00779027 -0.04044416 -0.00377362  0.07626101\n",
            "  0.07503891  0.14784361 -0.04609257  0.10417016 -0.0628929   0.01697519\n",
            "  0.07049672  0.12602157  0.08199108 -0.06322781 -0.00451798 -0.05774656\n",
            " -0.10401607  0.03772999  0.09630433  0.13963948 -0.06422262 -0.08559441\n",
            " -0.08796865 -0.0296858   0.04620658 -0.00822003 -0.06807049 -0.01460727\n",
            " -0.11631298  0.02366842 -0.04558723  0.0010766   0.05434226  0.1161658\n",
            " -0.0793763  -0.02129124 -0.03501578 -0.08969728  0.00292327  0.04358177\n",
            " -0.07533465 -0.07904992 -0.01945048  0.00771457 -0.01782239  0.12392001\n",
            "  0.03015386 -0.02894396  0.04572297 -0.00757725 -0.03515921 -0.07399519\n",
            "  0.09969879 -0.04741964 -0.03980034 -0.07395476  0.1009776   0.01641305\n",
            "  0.05043124  0.06143724  0.09772909 -0.04623302  0.09114694  0.03881079\n",
            "  0.06189893  0.07135541 -0.1386962   0.12059425 -0.10963304 -0.01727155\n",
            "  0.01457822 -0.03406808  0.03002289  0.0193956   0.00828948  0.00513756\n",
            " -0.0948302   0.11622078 -0.03234564 -0.00938357  0.02708256  0.17850591\n",
            " -0.09629816  0.10179291  0.05873135 -0.07371093 -0.0907971   0.0458541\n",
            "  0.00284699 -0.10070537 -0.032281   -0.11132631  0.01887597  0.04119614\n",
            " -0.08401345 -0.10499567 -0.04268334 -0.00334089  0.04902714 -0.01047377\n",
            "  0.05384484 -0.09143146  0.09652244 -0.17385382  0.06121137 -0.03252476\n",
            "  0.04928721  0.01077168  0.12808869 -0.0989637   0.05741412 -0.04125613\n",
            "  0.07796941  0.14163367  0.02806083 -0.008451    0.16025285  0.07271943\n",
            "  0.0726384   0.11062632 -0.02288627  0.07242043  0.16234636  0.02915572\n",
            " -0.09666902  0.00607482  0.02604153 -0.04703286 -0.08307637  0.10544986\n",
            "  0.01190946 -0.06700919  0.00733298  0.02633999 -0.03681899  0.01723367\n",
            " -0.09755333 -0.12643084 -0.04728583  0.0510811  -0.02775445  0.01851254\n",
            " -0.05081179 -0.08224912 -0.13921152  0.04033593  0.10612752  0.09114505\n",
            " -0.08478968 -0.02229647 -0.05001037  0.02836591  0.06188138 -0.03349887\n",
            " -0.00249993  0.01866261  0.02190957  0.04932151  0.09096475 -0.09221693\n",
            " -0.07251494 -0.08083843  0.06253267  0.01087487 -0.0065145  -0.03165123\n",
            "  0.14442381 -0.01992364 -0.03099017  0.04409059  0.01880489  0.00502822\n",
            " -0.05133653 -0.0139039   0.10458199 -0.02532558 -0.03917788  0.03534742\n",
            " -0.04349401  0.05899344 -0.05436598]\n"
          ]
        }
      ]
    },
    {
      "cell_type": "code",
      "source": [
        "\n",
        "r = np.random.randn(n + 1)\n",
        "# print(r)\n",
        "print(r.shape, res.shape)\n",
        "print(r * res)\n",
        "lables = np.sign(r * res)\n",
        "print(lables)"
      ],
      "metadata": {
        "id": "nGRXzk7f2W83",
        "outputId": "166817e5-8ef0-4235-8d17-4e1ad0908ee1",
        "colab": {
          "base_uri": "https://localhost:8080/"
        }
      },
      "execution_count": null,
      "outputs": [
        {
          "output_type": "stream",
          "name": "stdout",
          "text": [
            "(201,) (201,)\n",
            "[ 2.09901031e-02 -3.17329174e-03 -5.48464418e-03  4.26572109e-02\n",
            "  1.10625188e-02 -1.42542265e-02  2.63481803e-02 -4.51317916e-02\n",
            " -7.10725281e-04 -8.85154737e-02  1.16305274e-01 -2.68617623e-01\n",
            "  3.58545703e-03 -9.50290247e-02  2.15419416e-02 -6.90043319e-02\n",
            "  5.00188006e-03  2.35028741e-02 -1.91713836e-01 -1.20935419e-01\n",
            "  5.24822480e-03 -1.98881968e-02  8.87657971e-03  2.73599854e-02\n",
            "  8.07707692e-03 -7.62109703e-02  6.76503009e-02 -1.71130872e-02\n",
            " -3.08076069e-02 -4.14914479e-03 -7.57478399e-02 -1.05064558e-03\n",
            " -9.42536318e-02 -1.82833233e-02 -3.28180040e-03  3.53881127e-02\n",
            "  1.60889686e-01  2.64047376e-02  1.22749695e-02 -1.47575288e-02\n",
            " -1.38616203e-03 -4.31098445e-02 -1.21070939e-04  1.52565575e-02\n",
            " -2.83535386e-02 -5.03910667e-03  6.14308329e-02  2.24736893e-02\n",
            "  5.33860486e-02  3.92867333e-02  1.42120222e-02  3.08557645e-03\n",
            "  7.67983625e-02 -7.06890288e-03 -3.80680959e-02 -4.12262800e-02\n",
            " -2.55253361e-02 -4.56394286e-02 -2.59928530e-03 -7.72197960e-02\n",
            " -4.20843337e-02  5.72981158e-03  1.44216067e-03  1.35007225e-03\n",
            " -2.30896257e-02 -1.13375079e-01  2.44119452e-03  3.04172861e-02\n",
            "  6.23835291e-02  7.42455097e-04  3.07469817e-02 -5.22603756e-03\n",
            "  8.34548859e-02  3.45737153e-03 -1.66695463e-03 -1.17116136e-01\n",
            " -3.25964617e-02  6.64086770e-03  4.25583619e-02  2.35692991e-02\n",
            " -7.86036856e-02 -3.84972405e-02 -1.29274252e-01 -7.83203911e-02\n",
            "  6.65199442e-04 -4.58547806e-02  4.44891264e-02  6.67473546e-03\n",
            " -9.30634806e-02 -2.28874320e-03  5.24885045e-03  8.78925858e-03\n",
            " -3.79894393e-02 -1.53372697e-03  4.35261902e-03 -2.52673621e-03\n",
            "  1.94830193e-01 -1.61675865e-01 -1.50922079e-02 -7.05725300e-03\n",
            "  4.67314428e-02  1.33584433e-01  1.52948314e-01 -1.41532887e-01\n",
            "  1.38552661e-02  7.67692177e-02  1.14780137e-01  5.49820427e-03\n",
            "  2.18677407e-03 -3.88208593e-02 -6.19331486e-02 -2.34058761e-02\n",
            "  1.35898924e-02 -4.59077490e-02  9.30979014e-02 -9.67274322e-02\n",
            " -8.15025449e-02 -4.47543716e-03 -3.97015261e-03  1.23195466e-02\n",
            " -1.66431385e-02  5.10927655e-02 -1.83450174e-02 -6.70976908e-03\n",
            "  1.01384020e-01 -1.24503781e-03  4.53884563e-02 -4.52621846e-03\n",
            " -7.91021284e-02  9.52730634e-02 -1.30839863e-01 -4.16499200e-02\n",
            "  5.50541561e-02 -1.27776634e-01 -7.88238236e-03 -5.15130111e-03\n",
            " -2.07414078e-01  1.37068702e-01 -3.64095481e-02 -8.48737603e-02\n",
            " -4.07655461e-02  6.51489306e-02 -1.53830083e-02  2.01506139e-02\n",
            " -2.45474494e-01 -2.43475207e-04 -2.60076594e-02 -4.29237155e-02\n",
            " -3.05070004e-02  2.67217959e-02  6.80755269e-03 -4.44059256e-02\n",
            "  1.50865694e-02  6.60541055e-03 -4.31321804e-02 -2.50721143e-04\n",
            " -7.29773784e-02  5.43777901e-02 -1.11277876e-01 -3.04950766e-02\n",
            "  1.69855879e-02  1.60554542e-02  2.96599586e-02  5.04426963e-02\n",
            " -1.14444653e-01  3.39488925e-02  4.69626254e-02  3.87214008e-02\n",
            " -6.30152359e-02 -1.94924745e-02 -7.16574090e-02  3.82934433e-02\n",
            " -7.12140399e-02  5.00986915e-02 -2.07803165e-03 -1.28533097e-02\n",
            "  1.54144605e-03 -9.20231558e-02  1.29660300e-01  9.78714984e-02\n",
            " -4.03985417e-02 -9.82692772e-02  8.61268263e-03 -6.96702427e-03\n",
            "  8.55684549e-03  2.21250106e-02  1.74718076e-01 -3.38993816e-02\n",
            " -4.29873635e-02  1.14589441e-01  1.93861351e-02 -4.26329937e-03\n",
            " -1.02107045e-02 -3.98506298e-03 -6.56277470e-02  1.83593855e-02\n",
            "  4.99304942e-02 -5.80414341e-02  4.38024522e-02 -7.79123051e-04\n",
            " -3.67782122e-02]\n",
            "[ 1. -1. -1.  1.  1. -1.  1. -1. -1. -1.  1. -1.  1. -1.  1. -1.  1.  1.\n",
            " -1. -1.  1. -1.  1.  1.  1. -1.  1. -1. -1. -1. -1. -1. -1. -1. -1.  1.\n",
            "  1.  1.  1. -1. -1. -1. -1.  1. -1. -1.  1.  1.  1.  1.  1.  1.  1. -1.\n",
            " -1. -1. -1. -1. -1. -1. -1.  1.  1.  1. -1. -1.  1.  1.  1.  1.  1. -1.\n",
            "  1.  1. -1. -1. -1.  1.  1.  1. -1. -1. -1. -1.  1. -1.  1.  1. -1. -1.\n",
            "  1.  1. -1. -1.  1. -1.  1. -1. -1. -1.  1.  1.  1. -1.  1.  1.  1.  1.\n",
            "  1. -1. -1. -1.  1. -1.  1. -1. -1. -1. -1.  1. -1.  1. -1. -1.  1. -1.\n",
            "  1. -1. -1.  1. -1. -1.  1. -1. -1. -1. -1.  1. -1. -1. -1.  1. -1.  1.\n",
            " -1. -1. -1. -1. -1.  1.  1. -1.  1.  1. -1. -1. -1.  1. -1. -1.  1.  1.\n",
            "  1.  1. -1.  1.  1.  1. -1. -1. -1.  1. -1.  1. -1. -1.  1. -1.  1.  1.\n",
            " -1. -1.  1. -1.  1.  1.  1. -1. -1.  1.  1. -1. -1. -1. -1.  1.  1. -1.\n",
            "  1. -1. -1.]\n"
          ]
        }
      ]
    },
    {
      "cell_type": "code",
      "source": [
        "lables = list(lables)\n",
        "res = 0\n",
        "for n1 in range(n) : \n",
        "  for n2 in range(n1 , n) : \n",
        "    if adj[n1][n2]  and lables[n1] != lables[n2] : \n",
        "      res += 1\n",
        "print(res)"
      ],
      "metadata": {
        "id": "VFjM30LA2W4a",
        "outputId": "c78792a1-c375-48ee-b41f-e3e6828083f4",
        "colab": {
          "base_uri": "https://localhost:8080/"
        }
      },
      "execution_count": null,
      "outputs": [
        {
          "output_type": "stream",
          "name": "stdout",
          "text": [
            "4970\n"
          ]
        }
      ]
    },
    {
      "cell_type": "code",
      "source": [],
      "metadata": {
        "id": "9AQ3lnjD2W19"
      },
      "execution_count": null,
      "outputs": []
    },
    {
      "cell_type": "code",
      "source": [],
      "metadata": {
        "id": "ztTuxEp52WzQ"
      },
      "execution_count": null,
      "outputs": []
    },
    {
      "cell_type": "code",
      "source": [],
      "metadata": {
        "id": "8qD6nwZt2Wwk"
      },
      "execution_count": null,
      "outputs": []
    },
    {
      "cell_type": "code",
      "source": [],
      "metadata": {
        "id": "ogRt3nGQHCvf"
      },
      "execution_count": null,
      "outputs": []
    },
    {
      "cell_type": "code",
      "source": [],
      "metadata": {
        "id": "rA_tkUuA2Toh"
      },
      "execution_count": null,
      "outputs": []
    },
    {
      "cell_type": "code",
      "source": [],
      "metadata": {
        "id": "cIESufLG2Tkw"
      },
      "execution_count": null,
      "outputs": []
    },
    {
      "cell_type": "code",
      "source": [],
      "metadata": {
        "id": "h0VhjiY22TiQ"
      },
      "execution_count": null,
      "outputs": []
    },
    {
      "cell_type": "code",
      "source": [],
      "metadata": {
        "id": "NU0-rH3_2Te9"
      },
      "execution_count": null,
      "outputs": []
    },
    {
      "cell_type": "code",
      "source": [],
      "metadata": {
        "id": "Oc8TEbLqORlM"
      },
      "execution_count": null,
      "outputs": []
    }
  ],
  "metadata": {
    "kernelspec": {
      "display_name": "Python 3",
      "language": "python",
      "name": "python3"
    },
    "language_info": {
      "codemirror_mode": {
        "name": "ipython",
        "version": 3
      },
      "file_extension": ".py",
      "mimetype": "text/x-python",
      "name": "python",
      "nbconvert_exporter": "python",
      "pygments_lexer": "ipython3",
      "version": "3.8.5"
    },
    "colab": {
      "provenance": []
    },
    "accelerator": "GPU",
    "gpuClass": "standard"
  },
  "nbformat": 4,
  "nbformat_minor": 0
}