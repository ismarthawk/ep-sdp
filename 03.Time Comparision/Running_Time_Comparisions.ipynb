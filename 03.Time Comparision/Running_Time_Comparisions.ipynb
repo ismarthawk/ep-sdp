{
  "nbformat": 4,
  "nbformat_minor": 0,
  "metadata": {
    "colab": {
      "provenance": []
    },
    "kernelspec": {
      "name": "python3",
      "display_name": "Python 3"
    },
    "language_info": {
      "name": "python"
    }
  },
  "cells": [
    {
      "cell_type": "code",
      "execution_count": null,
      "metadata": {
        "id": "2EX5knCTIk_v"
      },
      "outputs": [],
      "source": [
        "import numpy as np\n",
        "import pandas as pd\n",
        "import sklearn\n",
        "from sklearn.metrics.pairwise import cosine_similarity\n",
        "from sklearn import preprocessing as pp\n",
        "import time"
      ]
    },
    {
      "cell_type": "code",
      "source": [
        "cats = [\n",
        "    'rec.autos',\n",
        "    'rec.motorcycles',\n",
        "    'sci.crypt',\n",
        "    'sci.med'\n",
        "]"
      ],
      "metadata": {
        "id": "v-m3mbgwI5cR"
      },
      "execution_count": null,
      "outputs": []
    },
    {
      "cell_type": "code",
      "source": [
        "from sklearn.datasets import fetch_20newsgroups\n",
        "from gensim.models.doc2vec import Doc2Vec, TaggedDocument\n",
        "newsgroups = fetch_20newsgroups(categories=cats, remove=('headers', 'footers', 'quotes'), subset = 'test')"
      ],
      "metadata": {
        "id": "qAltxsqqI6zi"
      },
      "execution_count": null,
      "outputs": []
    },
    {
      "cell_type": "code",
      "source": [
        "import nltk\n",
        "nltk.download('all')"
      ],
      "metadata": {
        "id": "OkifMOv8I_98"
      },
      "execution_count": null,
      "outputs": []
    },
    {
      "cell_type": "code",
      "source": [
        "import string\n",
        "from nltk.corpus import stopwords\n",
        "from nltk import word_tokenize\n",
        "from nltk.stem import PorterStemmer\n",
        "stop_words = set(stopwords.words('english'))\n",
        "\n",
        "def preprocess(text):\n",
        "    text = text.lower()\n",
        "    text = text.translate(str.maketrans('', '', string.punctuation))\n",
        "    tokenized = word_tokenize(text)\n",
        "    porter = PorterStemmer()\n",
        "    text = ' '.join([porter.stem(word) for word in tokenized])\n",
        "    return text\n",
        "\n",
        "docs = [preprocess(text) for text in newsgroups.data]"
      ],
      "metadata": {
        "id": "y7Zmd_JTJCdm"
      },
      "execution_count": null,
      "outputs": []
    },
    {
      "cell_type": "code",
      "source": [
        "tagged_data = [TaggedDocument(words=text.split(), tags=[str(i)]) for i, text in enumerate(docs)]\n",
        "model = Doc2Vec(tagged_data, vector_size=100, window=5, min_count=1, workers=4, epochs=20)\n",
        "document_vectors = [model.infer_vector(text.split()) for text in docs]"
      ],
      "metadata": {
        "id": "SM6dynSAJKiL"
      },
      "execution_count": null,
      "outputs": []
    },
    {
      "cell_type": "code",
      "source": [
        "import pandas as pd\n",
        "doc_names = ['Doc {}'.format(i) for i in range(len(docs))]\n",
        "lables = [cats[lab] for lab in list(newsgroups.target)]\n",
        "df = pd.DataFrame()\n",
        "df['Docs'] = doc_names\n",
        "df['vec'] = document_vectors\n",
        "df['lables'] = lables\n",
        "df['numLables'] = newsgroups.target"
      ],
      "metadata": {
        "id": "UuQQqcRFJOsu"
      },
      "execution_count": null,
      "outputs": []
    },
    {
      "cell_type": "code",
      "source": [
        "df"
      ],
      "metadata": {
        "colab": {
          "base_uri": "https://localhost:8080/",
          "height": 424
        },
        "id": "QRvFSYWaJ4uW",
        "outputId": "2b3efff6-0e17-4eb7-ae68-82d317f93184"
      },
      "execution_count": null,
      "outputs": [
        {
          "output_type": "execute_result",
          "data": {
            "text/plain": [
              "          Docs                                                vec  \\\n",
              "0        Doc 0  [0.3321275, -0.20328228, 0.15996918, 0.3872824...   \n",
              "1        Doc 1  [0.09581663, 0.257379, -0.046075363, 0.2123379...   \n",
              "2        Doc 2  [-0.28955176, -0.22223976, -0.06198772, 0.2025...   \n",
              "3        Doc 3  [-0.1525231, -0.2749216, 0.6626715, 0.91877323...   \n",
              "4        Doc 4  [0.07545908, 0.10871539, -0.0090087, -0.034643...   \n",
              "...        ...                                                ...   \n",
              "1581  Doc 1581  [-0.69364095, 0.105047256, -1.1240759, 0.51213...   \n",
              "1582  Doc 1582  [-0.121873416, 0.012799775, 0.068644635, 0.163...   \n",
              "1583  Doc 1583  [-0.53547794, 0.11141133, -0.38802582, 0.63433...   \n",
              "1584  Doc 1584  [0.06500297, 0.06849554, 0.086923674, 0.172664...   \n",
              "1585  Doc 1585  [-0.011835716, -0.28840825, -0.92870843, 0.736...   \n",
              "\n",
              "               lables  numLables  \n",
              "0             sci.med          3  \n",
              "1     rec.motorcycles          1  \n",
              "2     rec.motorcycles          1  \n",
              "3           sci.crypt          2  \n",
              "4             sci.med          3  \n",
              "...               ...        ...  \n",
              "1581        rec.autos          0  \n",
              "1582        sci.crypt          2  \n",
              "1583        rec.autos          0  \n",
              "1584  rec.motorcycles          1  \n",
              "1585        rec.autos          0  \n",
              "\n",
              "[1586 rows x 4 columns]"
            ],
            "text/html": [
              "\n",
              "  <div id=\"df-4238a0cd-766f-4452-bc8a-e9375682cfd0\">\n",
              "    <div class=\"colab-df-container\">\n",
              "      <div>\n",
              "<style scoped>\n",
              "    .dataframe tbody tr th:only-of-type {\n",
              "        vertical-align: middle;\n",
              "    }\n",
              "\n",
              "    .dataframe tbody tr th {\n",
              "        vertical-align: top;\n",
              "    }\n",
              "\n",
              "    .dataframe thead th {\n",
              "        text-align: right;\n",
              "    }\n",
              "</style>\n",
              "<table border=\"1\" class=\"dataframe\">\n",
              "  <thead>\n",
              "    <tr style=\"text-align: right;\">\n",
              "      <th></th>\n",
              "      <th>Docs</th>\n",
              "      <th>vec</th>\n",
              "      <th>lables</th>\n",
              "      <th>numLables</th>\n",
              "    </tr>\n",
              "  </thead>\n",
              "  <tbody>\n",
              "    <tr>\n",
              "      <th>0</th>\n",
              "      <td>Doc 0</td>\n",
              "      <td>[0.3321275, -0.20328228, 0.15996918, 0.3872824...</td>\n",
              "      <td>sci.med</td>\n",
              "      <td>3</td>\n",
              "    </tr>\n",
              "    <tr>\n",
              "      <th>1</th>\n",
              "      <td>Doc 1</td>\n",
              "      <td>[0.09581663, 0.257379, -0.046075363, 0.2123379...</td>\n",
              "      <td>rec.motorcycles</td>\n",
              "      <td>1</td>\n",
              "    </tr>\n",
              "    <tr>\n",
              "      <th>2</th>\n",
              "      <td>Doc 2</td>\n",
              "      <td>[-0.28955176, -0.22223976, -0.06198772, 0.2025...</td>\n",
              "      <td>rec.motorcycles</td>\n",
              "      <td>1</td>\n",
              "    </tr>\n",
              "    <tr>\n",
              "      <th>3</th>\n",
              "      <td>Doc 3</td>\n",
              "      <td>[-0.1525231, -0.2749216, 0.6626715, 0.91877323...</td>\n",
              "      <td>sci.crypt</td>\n",
              "      <td>2</td>\n",
              "    </tr>\n",
              "    <tr>\n",
              "      <th>4</th>\n",
              "      <td>Doc 4</td>\n",
              "      <td>[0.07545908, 0.10871539, -0.0090087, -0.034643...</td>\n",
              "      <td>sci.med</td>\n",
              "      <td>3</td>\n",
              "    </tr>\n",
              "    <tr>\n",
              "      <th>...</th>\n",
              "      <td>...</td>\n",
              "      <td>...</td>\n",
              "      <td>...</td>\n",
              "      <td>...</td>\n",
              "    </tr>\n",
              "    <tr>\n",
              "      <th>1581</th>\n",
              "      <td>Doc 1581</td>\n",
              "      <td>[-0.69364095, 0.105047256, -1.1240759, 0.51213...</td>\n",
              "      <td>rec.autos</td>\n",
              "      <td>0</td>\n",
              "    </tr>\n",
              "    <tr>\n",
              "      <th>1582</th>\n",
              "      <td>Doc 1582</td>\n",
              "      <td>[-0.121873416, 0.012799775, 0.068644635, 0.163...</td>\n",
              "      <td>sci.crypt</td>\n",
              "      <td>2</td>\n",
              "    </tr>\n",
              "    <tr>\n",
              "      <th>1583</th>\n",
              "      <td>Doc 1583</td>\n",
              "      <td>[-0.53547794, 0.11141133, -0.38802582, 0.63433...</td>\n",
              "      <td>rec.autos</td>\n",
              "      <td>0</td>\n",
              "    </tr>\n",
              "    <tr>\n",
              "      <th>1584</th>\n",
              "      <td>Doc 1584</td>\n",
              "      <td>[0.06500297, 0.06849554, 0.086923674, 0.172664...</td>\n",
              "      <td>rec.motorcycles</td>\n",
              "      <td>1</td>\n",
              "    </tr>\n",
              "    <tr>\n",
              "      <th>1585</th>\n",
              "      <td>Doc 1585</td>\n",
              "      <td>[-0.011835716, -0.28840825, -0.92870843, 0.736...</td>\n",
              "      <td>rec.autos</td>\n",
              "      <td>0</td>\n",
              "    </tr>\n",
              "  </tbody>\n",
              "</table>\n",
              "<p>1586 rows × 4 columns</p>\n",
              "</div>\n",
              "      <button class=\"colab-df-convert\" onclick=\"convertToInteractive('df-4238a0cd-766f-4452-bc8a-e9375682cfd0')\"\n",
              "              title=\"Convert this dataframe to an interactive table.\"\n",
              "              style=\"display:none;\">\n",
              "        \n",
              "  <svg xmlns=\"http://www.w3.org/2000/svg\" height=\"24px\"viewBox=\"0 0 24 24\"\n",
              "       width=\"24px\">\n",
              "    <path d=\"M0 0h24v24H0V0z\" fill=\"none\"/>\n",
              "    <path d=\"M18.56 5.44l.94 2.06.94-2.06 2.06-.94-2.06-.94-.94-2.06-.94 2.06-2.06.94zm-11 1L8.5 8.5l.94-2.06 2.06-.94-2.06-.94L8.5 2.5l-.94 2.06-2.06.94zm10 10l.94 2.06.94-2.06 2.06-.94-2.06-.94-.94-2.06-.94 2.06-2.06.94z\"/><path d=\"M17.41 7.96l-1.37-1.37c-.4-.4-.92-.59-1.43-.59-.52 0-1.04.2-1.43.59L10.3 9.45l-7.72 7.72c-.78.78-.78 2.05 0 2.83L4 21.41c.39.39.9.59 1.41.59.51 0 1.02-.2 1.41-.59l7.78-7.78 2.81-2.81c.8-.78.8-2.07 0-2.86zM5.41 20L4 18.59l7.72-7.72 1.47 1.35L5.41 20z\"/>\n",
              "  </svg>\n",
              "      </button>\n",
              "      \n",
              "  <style>\n",
              "    .colab-df-container {\n",
              "      display:flex;\n",
              "      flex-wrap:wrap;\n",
              "      gap: 12px;\n",
              "    }\n",
              "\n",
              "    .colab-df-convert {\n",
              "      background-color: #E8F0FE;\n",
              "      border: none;\n",
              "      border-radius: 50%;\n",
              "      cursor: pointer;\n",
              "      display: none;\n",
              "      fill: #1967D2;\n",
              "      height: 32px;\n",
              "      padding: 0 0 0 0;\n",
              "      width: 32px;\n",
              "    }\n",
              "\n",
              "    .colab-df-convert:hover {\n",
              "      background-color: #E2EBFA;\n",
              "      box-shadow: 0px 1px 2px rgba(60, 64, 67, 0.3), 0px 1px 3px 1px rgba(60, 64, 67, 0.15);\n",
              "      fill: #174EA6;\n",
              "    }\n",
              "\n",
              "    [theme=dark] .colab-df-convert {\n",
              "      background-color: #3B4455;\n",
              "      fill: #D2E3FC;\n",
              "    }\n",
              "\n",
              "    [theme=dark] .colab-df-convert:hover {\n",
              "      background-color: #434B5C;\n",
              "      box-shadow: 0px 1px 3px 1px rgba(0, 0, 0, 0.15);\n",
              "      filter: drop-shadow(0px 1px 2px rgba(0, 0, 0, 0.3));\n",
              "      fill: #FFFFFF;\n",
              "    }\n",
              "  </style>\n",
              "\n",
              "      <script>\n",
              "        const buttonEl =\n",
              "          document.querySelector('#df-4238a0cd-766f-4452-bc8a-e9375682cfd0 button.colab-df-convert');\n",
              "        buttonEl.style.display =\n",
              "          google.colab.kernel.accessAllowed ? 'block' : 'none';\n",
              "\n",
              "        async function convertToInteractive(key) {\n",
              "          const element = document.querySelector('#df-4238a0cd-766f-4452-bc8a-e9375682cfd0');\n",
              "          const dataTable =\n",
              "            await google.colab.kernel.invokeFunction('convertToInteractive',\n",
              "                                                     [key], {});\n",
              "          if (!dataTable) return;\n",
              "\n",
              "          const docLinkHtml = 'Like what you see? Visit the ' +\n",
              "            '<a target=\"_blank\" href=https://colab.research.google.com/notebooks/data_table.ipynb>data table notebook</a>'\n",
              "            + ' to learn more about interactive tables.';\n",
              "          element.innerHTML = '';\n",
              "          dataTable['output_type'] = 'display_data';\n",
              "          await google.colab.output.renderOutput(dataTable, element);\n",
              "          const docLink = document.createElement('div');\n",
              "          docLink.innerHTML = docLinkHtml;\n",
              "          element.appendChild(docLink);\n",
              "        }\n",
              "      </script>\n",
              "    </div>\n",
              "  </div>\n",
              "  "
            ]
          },
          "metadata": {},
          "execution_count": 104
        }
      ]
    },
    {
      "cell_type": "code",
      "source": [
        "sdpDict = dict()\n",
        "tsallisDict = dict()\n",
        "renyiDict = dict()"
      ],
      "metadata": {
        "id": "9Ftot_P6J51k"
      },
      "execution_count": null,
      "outputs": []
    },
    {
      "cell_type": "code",
      "source": [
        "def getDissimMatrix(df) : \n",
        "  n = df.shape[0]\n",
        "  res = np.zeros((n, n))\n",
        "  for i in range(n) :\n",
        "    for j in range(i + 1, n) : \n",
        "      res[i, j] = res[j, i] = 1 - getCosSim(df.iloc[i]['vec'], df.iloc[j]['vec'])\n",
        "    # if i % 100 == 0 : print('Node', i, 'completed')\n",
        "  return res"
      ],
      "metadata": {
        "id": "8RtENfR_Mmi8"
      },
      "execution_count": null,
      "outputs": []
    },
    {
      "cell_type": "code",
      "source": [
        "def getCosSim(vec1, vec2) : \n",
        "  return cosine_similarity(vec1.reshape(1, -1), vec2.reshape(1, -1))[0][0]"
      ],
      "metadata": {
        "id": "XaoWERPUMpLH"
      },
      "execution_count": null,
      "outputs": []
    },
    {
      "cell_type": "code",
      "source": [
        "class BinaryQP(object) : \n",
        "    def __init__(self, adjacency) : \n",
        "        \n",
        "        self.adj = adjacency\n",
        "        self.n = len(self.adj)\n",
        "        \n",
        "        self.pot = np.array([0 for i in range(self.n)])\n",
        "        self.constant = 0\n",
        "        n = self.n\n",
        "        \n",
        "        cost_matrix = np.zeros((n+1, n+1))\n",
        "        cost_matrix[np.ix_(list(range(n)),list(range(n)))] = self.adj\n",
        "        cost_matrix[np.ix_([n],list(range(n)))] = [i/2 for i in self.pot]\n",
        "        cost_matrix[np.ix_(list(range(n))),[n]] = [i/2 for i in self.pot]\n",
        "        cost_matrix[n][n] = self.constant\n",
        "        \n",
        "        self.cost_matrix = cost_matrix\n",
        "        \n",
        "    def __str__(self) : \n",
        "        print(\"The Cost Matrix (S) is :\")\n",
        "        return str(self.cost_matrix)"
      ],
      "metadata": {
        "id": "6gRcu5nxM72b"
      },
      "execution_count": null,
      "outputs": []
    },
    {
      "cell_type": "code",
      "source": [
        "def solveUsingEPSDP(problem, Grad, rank,la, ga, steps):\n",
        "    C = problem.cost_matrix\n",
        "    D = np.diag(np.sum(C, axis=0))\n",
        "    L = D - C\n",
        "    C = L\n",
        "    V = np.random.normal(0, 1, (rank, len(C)))\n",
        "    V = np.transpose(pp.normalize(np.transpose(V), norm='l2'))\n",
        "    step = 1/np.linalg.norm(C) \n",
        "    \n",
        "    for outer_steps in range(10): \n",
        "        gradient = 2*np.matmul(V, C) - la*Grad(V)\n",
        "        for s in range(steps):\n",
        "            gradient = 2*np.matmul(V, C) - la*Grad(V)\n",
        "            V = V + step*(gradient)\n",
        "            V = np.transpose(pp.normalize(np.transpose(V), norm='l2'))\n",
        "        la = la*ga\n",
        "    U, s, Vt = np.linalg.svd(V)\n",
        "    v1 = Vt.T[:, 0]\n",
        "    return v1\n",
        "\n",
        "def RenyiGrad(V):\n",
        "    alpha = 4\n",
        "    U1, d, U2 = np.linalg.svd(V, full_matrices=False)\n",
        "    D = np.diag(d)\n",
        "    R=U2.shape[1]\n",
        "    I=np.identity(R, dtype=\"int\")\n",
        "    xa=(np.dot(U1, np.dot(np.linalg.matrix_power(D, 2*alpha-1),U2)))\n",
        "    trxa=np.trace(np.linalg.matrix_power(D, 2*alpha))\n",
        "    trx=np.trace(np.dot(D, D))\n",
        "    x=np.dot(np.transpose(V),V)\n",
        "    h=xa/trxa\n",
        "    p=x/trx\n",
        "    k = h @ (I-p) \n",
        "    return (alpha/(1-alpha))*k\n",
        "\n",
        "\n",
        "def TsallisGrad(V):\n",
        "    alpha = 4\n",
        "    U1, d, U2 = np.linalg.svd(V, full_matrices=False)\n",
        "    D = np.diag(d)    \n",
        "    return (alpha/(1-alpha))*(np.dot(U1, np.dot(np.linalg.matrix_power(D, 2*alpha-1),U2))/np.power(np.trace(np.dot(D, D)), alpha) -  np.trace(np.linalg.matrix_power(D, 2*alpha))*V/np.power(np.trace(np.dot(D, D)), alpha+1) )"
      ],
      "metadata": {
        "id": "LrLXEPYUM9eP"
      },
      "execution_count": null,
      "outputs": []
    },
    {
      "cell_type": "code",
      "source": [
        "class ClusterNode(object) :\n",
        "  def __init__(self, items : list, level : int, config : list) : \n",
        "    self.items = items\n",
        "    self.level = level\n",
        "    self.config = config\n",
        "    self.left = None\n",
        "    self.right = None\n",
        "  \n",
        "  def __str__(self) : \n",
        "    res = 'items : ' + str(self.items) + '\\n'\n",
        "    res += 'level : ' + str(self.level) + '\\n'\n",
        "    res += 'config : ' + str(self.config) + '\\n'\n",
        "    return res"
      ],
      "metadata": {
        "id": "ETFcOS2SNYDa"
      },
      "execution_count": null,
      "outputs": []
    },
    {
      "cell_type": "code",
      "source": [
        "max_clusters = 4"
      ],
      "metadata": {
        "id": "meFR8uZVNbG5"
      },
      "execution_count": null,
      "outputs": []
    },
    {
      "cell_type": "code",
      "source": [
        "def getWCSS(node : ClusterNode) : \n",
        "  items = node.items\n",
        "  centroid = np.zeros(df.loc[0, 'vec'].shape[0])\n",
        "  for item in items : \n",
        "    centroid += df.loc[item, 'vec']\n",
        "  centroid = centroid / len(items)\n",
        "  res = 0 \n",
        "  for item in items : \n",
        "    res += np.linalg.norm(centroid - df.loc[item, 'vec'])\n",
        "  return res "
      ],
      "metadata": {
        "id": "IxrbG1I-NbDv"
      },
      "execution_count": null,
      "outputs": []
    },
    {
      "cell_type": "code",
      "source": [],
      "metadata": {
        "id": "PMds0IWANbBh"
      },
      "execution_count": null,
      "outputs": []
    },
    {
      "cell_type": "code",
      "source": [],
      "metadata": {
        "id": "hnxmaIe5Na_G"
      },
      "execution_count": null,
      "outputs": []
    },
    {
      "cell_type": "code",
      "source": [],
      "metadata": {
        "id": "UDqw5hAcNa7n"
      },
      "execution_count": null,
      "outputs": []
    },
    {
      "cell_type": "markdown",
      "source": [
        "## Tsallis Entropy"
      ],
      "metadata": {
        "id": "vB9gR7FNKEm4"
      }
    },
    {
      "cell_type": "code",
      "source": [
        "def getLables(problem : BinaryQP, Grad = TsallisGrad) : \n",
        "  res = solveUsingEPSDP(problem, Grad, rank = 20, la = 10, ga = 5, steps = 100 )\n",
        "  n = problem.n\n",
        "  r = np.random.randn(n + 1)\n",
        "  lables = list(np.sign(res))\n",
        "  return lables"
      ],
      "metadata": {
        "id": "UW5XEGFWNmf7"
      },
      "execution_count": null,
      "outputs": []
    },
    {
      "cell_type": "code",
      "source": [
        "from heapq import heappush, heappop\n",
        "treeMemo = dict()\n",
        "wcssMemo = dict()\n",
        "def divisiveCluster(disMat_df, leafLength) -> ClusterNode : \n",
        "  n = disMat_df.shape[0]\n",
        "  root = ClusterNode (\n",
        "      items = list(range(n)),\n",
        "      level = 0,\n",
        "      config = []\n",
        "  )\n",
        "\n",
        "  q = [(0, root)]\n",
        "\n",
        "  while len(q) <= max_clusters : \n",
        "    treeMemo[len(q)] = q.copy()\n",
        "    # total_WCSS = sum([-(i* len(j.items)) for i, j in q])\n",
        "    total_WCSS = sum([-i for i, j in q])\n",
        "    wcssMemo[len(q)] = total_WCSS / len(q)\n",
        "    _, currNode = q.pop(0)\n",
        "    if len(currNode.items) < leafLength : continue\n",
        "    # print('Cluster at level : ', currNode.level, 'is divided into ', end = \" \")\n",
        "    adj = getAdj(currNode.items, disMat_df)\n",
        "    problem = BinaryQP(adj)\n",
        "    lables = getLables(problem, TsallisGrad)\n",
        "    pos =  []\n",
        "    neg = []\n",
        "    for item, lable in zip(currNode.items, lables) : \n",
        "      if lable > 0 : pos.append(item)\n",
        "      else : neg.append(item)\n",
        "\n",
        "    leftCluster = ClusterNode(items = neg, level = currNode.level + 1, config = currNode.config + [-1])\n",
        "    rightCluster = ClusterNode(items = pos, level = currNode.level+ 1, config = currNode.config + [1] )\n",
        "    currNode.left = leftCluster\n",
        "    currNode.right = rightCluster \n",
        "    heappush(q, (-getWCSS(leftCluster), leftCluster))\n",
        "    heappush(q, (-getWCSS(rightCluster), rightCluster))\n",
        "\n",
        "    print('Cluster at level '+ str(currNode.level) +  ' with ' +  str(len(currNode.items)) + ' divided into ' + str( len(currNode.left.items))  +' and ' + str(len(currNode.right.items)) + ' nodes.'   )\n",
        "    print(currNode)\n",
        "\n",
        "\n",
        "\n",
        "  return root"
      ],
      "metadata": {
        "id": "xP52t2TXNn3L"
      },
      "execution_count": null,
      "outputs": []
    },
    {
      "cell_type": "code",
      "source": [],
      "metadata": {
        "id": "1SxoDsRkNnun"
      },
      "execution_count": null,
      "outputs": []
    },
    {
      "cell_type": "code",
      "source": [
        "from collections import defaultdict\n",
        "for nodes in range(5, 11) : \n",
        "  print('Stared ', nodes * 5, 'nodes : ', end = \" \")\n",
        "  dfMemo = defaultdict(lambda : set())\n",
        "  for ind, record in df.iterrows() :\n",
        "    if len(dfMemo[record['numLables']]) < nodes * 5 : \n",
        "      dfMemo[record['numLables']].add(ind)\n",
        "  d = pd.DataFrame()\n",
        "  for _, records in dfMemo.items() : \n",
        "    for record in records : \n",
        "      d = d.append(df.iloc[record], ignore_index = True)\n",
        "  disMat = getDissimMatrix(d)\n",
        "  disMat_df = pd.DataFrame(disMat, columns = d.index, index = d.index)\n",
        "  problem = BinaryQP(disMat)\n",
        "  n = disMat.shape[0]\n",
        "  def getAdj(nodes, disMat_df) : \n",
        "    n = len(nodes)\n",
        "    return disMat_df.iloc[nodes, nodes].to_numpy()\n",
        "  start_time = time.time()\n",
        "\n",
        "\n",
        "  rootCluster = divisiveCluster(disMat_df,20)\n",
        "  clusters = treeMemo[4]\n",
        "  memo = dict()\n",
        "  for id, _ in enumerate(clusters) : \n",
        "    _, cluster = _\n",
        "    for item in cluster.items : \n",
        "      memo[item] = id\n",
        "  vals = sorted(memo.items())\n",
        "  vals = [i for j, i in vals]\n",
        "  d['pred'] = vals\n",
        "  from collections import defaultdict\n",
        "  jacScores = pd.DataFrame(np.zeros(36).reshape(6, 6))\n",
        "  true_labels = d['numLables'].tolist()\n",
        "  predicted_labels = d['pred'].tolist()\n",
        "\n",
        "  truths = defaultdict(lambda : set())\n",
        "  preds = defaultdict(lambda : set())\n",
        "\n",
        "  for ind, label in enumerate(true_labels) :\n",
        "      truths[label].add(ind)\n",
        "\n",
        "  for ind, label in enumerate(predicted_labels) : \n",
        "      preds[label].add(ind)\n",
        "\n",
        "  for t in range(4) : \n",
        "      for p in range(4) : \n",
        "          jacScores.iloc[t,p] = len(truths[t].intersection(preds[p])) \n",
        "\n",
        "  from heapq import heapify, heappush, heappop\n",
        "  heap = [] #(val, ground, pred)\n",
        "  for t in range(4) : \n",
        "      for p in range(4) : \n",
        "          heappush(heap, (-jacScores.iloc[t, p], t, p ))\n",
        "  groundSeen = set()\n",
        "  predSeen = set()\n",
        "  mappedLabels = dict()\n",
        "  while len(groundSeen) != 4 :\n",
        "      _, t, p = heappop(heap)\n",
        "      if t in groundSeen or p in predSeen : continue\n",
        "      mappedLabels[p] = t\n",
        "      groundSeen.add(t)\n",
        "      predSeen.add(p)\n",
        "\n",
        "  d['mapped'] = d['pred'].map(lambda x : mappedLabels[x])\n",
        "\n",
        "  end_time = time.time()\n",
        "  print(end_time - start_time)\n",
        "  tsallisDict[nodes* 5 * 4 ] = end_time - start_time"
      ],
      "metadata": {
        "id": "PISn2dpVKDZe",
        "colab": {
          "base_uri": "https://localhost:8080/"
        },
        "outputId": "e2d1d482-6c5d-45f3-aeb4-4f9d638ae051"
      },
      "execution_count": null,
      "outputs": [
        {
          "output_type": "stream",
          "name": "stdout",
          "text": [
            "Stared  25 nodes :  "
          ]
        },
        {
          "output_type": "stream",
          "name": "stderr",
          "text": [
            "<ipython-input-115-85d5cccf882c>:11: FutureWarning: The frame.append method is deprecated and will be removed from pandas in a future version. Use pandas.concat instead.\n",
            "  d = d.append(df.iloc[record], ignore_index = True)\n"
          ]
        },
        {
          "output_type": "stream",
          "name": "stdout",
          "text": [
            "Cluster at level 0 with 100 divided into 44 and 56 nodes.\n",
            "items : [0, 1, 2, 3, 4, 5, 6, 7, 8, 9, 10, 11, 12, 13, 14, 15, 16, 17, 18, 19, 20, 21, 22, 23, 24, 25, 26, 27, 28, 29, 30, 31, 32, 33, 34, 35, 36, 37, 38, 39, 40, 41, 42, 43, 44, 45, 46, 47, 48, 49, 50, 51, 52, 53, 54, 55, 56, 57, 58, 59, 60, 61, 62, 63, 64, 65, 66, 67, 68, 69, 70, 71, 72, 73, 74, 75, 76, 77, 78, 79, 80, 81, 82, 83, 84, 85, 86, 87, 88, 89, 90, 91, 92, 93, 94, 95, 96, 97, 98, 99]\n",
            "level : 0\n",
            "config : []\n",
            "\n",
            "Cluster at level 1 with 44 divided into 24 and 20 nodes.\n",
            "items : [1, 2, 3, 4, 5, 6, 7, 8, 10, 12, 13, 14, 15, 16, 18, 20, 21, 22, 25, 30, 33, 40, 45, 50, 52, 53, 54, 56, 57, 58, 59, 60, 61, 62, 63, 68, 69, 70, 72, 73, 74, 79, 87, 96]\n",
            "level : 1\n",
            "config : [-1]\n",
            "\n",
            "Cluster at level 1 with 56 divided into 34 and 22 nodes.\n",
            "items : [0, 9, 11, 17, 19, 23, 24, 26, 27, 28, 29, 31, 32, 34, 35, 36, 37, 38, 39, 41, 42, 43, 44, 46, 47, 48, 49, 51, 55, 64, 65, 66, 67, 71, 75, 76, 77, 78, 80, 81, 82, 83, 84, 85, 86, 88, 89, 90, 91, 92, 93, 94, 95, 97, 98, 99]\n",
            "level : 1\n",
            "config : [1]\n",
            "\n",
            "Cluster at level 2 with 34 divided into 18 and 16 nodes.\n",
            "items : [0, 9, 11, 19, 26, 28, 32, 34, 35, 37, 38, 39, 41, 47, 48, 49, 51, 55, 64, 65, 67, 71, 75, 78, 80, 81, 82, 83, 84, 89, 91, 92, 97, 99]\n",
            "level : 2\n",
            "config : [1, -1]\n",
            "\n",
            "3.2163214683532715\n",
            "Stared  30 nodes :  "
          ]
        },
        {
          "output_type": "stream",
          "name": "stderr",
          "text": [
            "<ipython-input-115-85d5cccf882c>:11: FutureWarning: The frame.append method is deprecated and will be removed from pandas in a future version. Use pandas.concat instead.\n",
            "  d = d.append(df.iloc[record], ignore_index = True)\n"
          ]
        },
        {
          "output_type": "stream",
          "name": "stdout",
          "text": [
            "Cluster at level 0 with 120 divided into 53 and 67 nodes.\n",
            "items : [0, 1, 2, 3, 4, 5, 6, 7, 8, 9, 10, 11, 12, 13, 14, 15, 16, 17, 18, 19, 20, 21, 22, 23, 24, 25, 26, 27, 28, 29, 30, 31, 32, 33, 34, 35, 36, 37, 38, 39, 40, 41, 42, 43, 44, 45, 46, 47, 48, 49, 50, 51, 52, 53, 54, 55, 56, 57, 58, 59, 60, 61, 62, 63, 64, 65, 66, 67, 68, 69, 70, 71, 72, 73, 74, 75, 76, 77, 78, 79, 80, 81, 82, 83, 84, 85, 86, 87, 88, 89, 90, 91, 92, 93, 94, 95, 96, 97, 98, 99, 100, 101, 102, 103, 104, 105, 106, 107, 108, 109, 110, 111, 112, 113, 114, 115, 116, 117, 118, 119]\n",
            "level : 0\n",
            "config : []\n",
            "\n",
            "Cluster at level 1 with 53 divided into 31 and 22 nodes.\n",
            "items : [1, 2, 3, 4, 6, 7, 8, 9, 14, 15, 16, 17, 18, 20, 22, 23, 24, 27, 28, 29, 30, 35, 38, 45, 56, 57, 60, 62, 63, 64, 66, 67, 68, 69, 70, 71, 72, 73, 78, 79, 80, 82, 83, 84, 85, 86, 87, 88, 94, 97, 100, 107, 116]\n",
            "level : 1\n",
            "config : [-1]\n",
            "\n",
            "Cluster at level 1 with 67 divided into 32 and 35 nodes.\n",
            "items : [0, 5, 10, 11, 12, 13, 19, 21, 25, 26, 31, 32, 33, 34, 36, 37, 39, 40, 41, 42, 43, 44, 46, 47, 48, 49, 50, 51, 52, 53, 54, 55, 58, 59, 61, 65, 74, 75, 76, 77, 81, 89, 90, 91, 92, 93, 95, 96, 98, 99, 101, 102, 103, 104, 105, 106, 108, 109, 110, 111, 112, 113, 114, 115, 117, 118, 119]\n",
            "level : 1\n",
            "config : [1]\n",
            "\n",
            "Cluster at level 2 with 31 divided into 14 and 17 nodes.\n",
            "items : [1, 2, 3, 4, 6, 7, 8, 9, 15, 16, 18, 20, 23, 24, 27, 28, 29, 35, 38, 45, 66, 70, 73, 82, 84, 85, 86, 87, 97, 100, 116]\n",
            "level : 2\n",
            "config : [-1, -1]\n",
            "\n",
            "2.610410213470459\n",
            "Stared  35 nodes :  "
          ]
        },
        {
          "output_type": "stream",
          "name": "stderr",
          "text": [
            "<ipython-input-115-85d5cccf882c>:11: FutureWarning: The frame.append method is deprecated and will be removed from pandas in a future version. Use pandas.concat instead.\n",
            "  d = d.append(df.iloc[record], ignore_index = True)\n"
          ]
        },
        {
          "output_type": "stream",
          "name": "stdout",
          "text": [
            "Cluster at level 0 with 140 divided into 80 and 60 nodes.\n",
            "items : [0, 1, 2, 3, 4, 5, 6, 7, 8, 9, 10, 11, 12, 13, 14, 15, 16, 17, 18, 19, 20, 21, 22, 23, 24, 25, 26, 27, 28, 29, 30, 31, 32, 33, 34, 35, 36, 37, 38, 39, 40, 41, 42, 43, 44, 45, 46, 47, 48, 49, 50, 51, 52, 53, 54, 55, 56, 57, 58, 59, 60, 61, 62, 63, 64, 65, 66, 67, 68, 69, 70, 71, 72, 73, 74, 75, 76, 77, 78, 79, 80, 81, 82, 83, 84, 85, 86, 87, 88, 89, 90, 91, 92, 93, 94, 95, 96, 97, 98, 99, 100, 101, 102, 103, 104, 105, 106, 107, 108, 109, 110, 111, 112, 113, 114, 115, 116, 117, 118, 119, 120, 121, 122, 123, 124, 125, 126, 127, 128, 129, 130, 131, 132, 133, 134, 135, 136, 137, 138, 139]\n",
            "level : 0\n",
            "config : []\n",
            "\n",
            "Cluster at level 1 with 60 divided into 31 and 29 nodes.\n",
            "items : [1, 2, 3, 4, 6, 9, 10, 13, 14, 17, 19, 20, 21, 22, 23, 25, 27, 28, 29, 32, 33, 34, 35, 40, 43, 50, 61, 62, 70, 72, 73, 74, 76, 77, 78, 79, 80, 81, 82, 83, 88, 89, 90, 92, 93, 94, 95, 96, 97, 98, 101, 102, 103, 104, 109, 112, 115, 127, 135, 136]\n",
            "level : 1\n",
            "config : [1]\n",
            "\n",
            "Cluster at level 1 with 80 divided into 32 and 48 nodes.\n",
            "items : [0, 5, 7, 8, 11, 12, 15, 16, 18, 24, 26, 30, 31, 36, 37, 38, 39, 41, 42, 44, 45, 46, 47, 48, 49, 51, 52, 53, 54, 55, 56, 57, 58, 59, 60, 63, 64, 65, 66, 67, 68, 69, 71, 75, 84, 85, 86, 87, 91, 99, 100, 105, 106, 107, 108, 110, 111, 113, 114, 116, 117, 118, 119, 120, 121, 122, 123, 124, 125, 126, 128, 129, 130, 131, 132, 133, 134, 137, 138, 139]\n",
            "level : 1\n",
            "config : [-1]\n",
            "\n",
            "Cluster at level 2 with 48 divided into 24 and 24 nodes.\n",
            "items : [0, 5, 7, 8, 12, 15, 16, 18, 36, 42, 44, 45, 47, 48, 51, 53, 54, 55, 57, 58, 63, 64, 65, 68, 69, 71, 75, 84, 85, 86, 87, 91, 99, 100, 108, 111, 113, 116, 117, 119, 122, 125, 126, 130, 131, 132, 137, 138]\n",
            "level : 2\n",
            "config : [-1, 1]\n",
            "\n",
            "2.7826590538024902\n",
            "Stared  40 nodes :  "
          ]
        },
        {
          "output_type": "stream",
          "name": "stderr",
          "text": [
            "<ipython-input-115-85d5cccf882c>:11: FutureWarning: The frame.append method is deprecated and will be removed from pandas in a future version. Use pandas.concat instead.\n",
            "  d = d.append(df.iloc[record], ignore_index = True)\n"
          ]
        },
        {
          "output_type": "stream",
          "name": "stdout",
          "text": [
            "Cluster at level 0 with 160 divided into 89 and 71 nodes.\n",
            "items : [0, 1, 2, 3, 4, 5, 6, 7, 8, 9, 10, 11, 12, 13, 14, 15, 16, 17, 18, 19, 20, 21, 22, 23, 24, 25, 26, 27, 28, 29, 30, 31, 32, 33, 34, 35, 36, 37, 38, 39, 40, 41, 42, 43, 44, 45, 46, 47, 48, 49, 50, 51, 52, 53, 54, 55, 56, 57, 58, 59, 60, 61, 62, 63, 64, 65, 66, 67, 68, 69, 70, 71, 72, 73, 74, 75, 76, 77, 78, 79, 80, 81, 82, 83, 84, 85, 86, 87, 88, 89, 90, 91, 92, 93, 94, 95, 96, 97, 98, 99, 100, 101, 102, 103, 104, 105, 106, 107, 108, 109, 110, 111, 112, 113, 114, 115, 116, 117, 118, 119, 120, 121, 122, 123, 124, 125, 126, 127, 128, 129, 130, 131, 132, 133, 134, 135, 136, 137, 138, 139, 140, 141, 142, 143, 144, 145, 146, 147, 148, 149, 150, 151, 152, 153, 154, 155, 156, 157, 158, 159]\n",
            "level : 0\n",
            "config : []\n",
            "\n",
            "Cluster at level 1 with 89 divided into 40 and 49 nodes.\n",
            "items : [3, 4, 9, 10, 11, 14, 17, 18, 22, 25, 26, 27, 28, 29, 30, 31, 33, 34, 36, 37, 38, 39, 40, 42, 43, 46, 47, 48, 50, 52, 53, 54, 56, 57, 59, 63, 67, 68, 69, 73, 74, 76, 78, 79, 80, 83, 84, 86, 89, 90, 92, 93, 98, 99, 100, 103, 105, 106, 108, 111, 112, 113, 114, 118, 119, 121, 122, 124, 127, 128, 129, 132, 133, 135, 136, 137, 138, 142, 143, 144, 145, 146, 147, 151, 153, 154, 155, 156, 159]\n",
            "level : 1\n",
            "config : [-1]\n",
            "\n",
            "Cluster at level 2 with 49 divided into 19 and 30 nodes.\n",
            "items : [11, 18, 22, 29, 31, 33, 37, 39, 40, 42, 43, 46, 47, 52, 53, 54, 56, 59, 63, 67, 69, 73, 74, 76, 78, 79, 83, 92, 98, 105, 119, 121, 122, 127, 128, 129, 132, 135, 137, 138, 142, 143, 145, 146, 151, 153, 154, 156, 159]\n",
            "level : 2\n",
            "config : [-1, 1]\n",
            "\n",
            "Cluster at level 2 with 40 divided into 26 and 14 nodes.\n",
            "items : [3, 4, 9, 10, 14, 17, 25, 26, 27, 28, 30, 34, 36, 38, 48, 50, 57, 68, 80, 84, 86, 89, 90, 93, 99, 100, 103, 106, 108, 111, 112, 113, 114, 118, 124, 133, 136, 144, 147, 155]\n",
            "level : 2\n",
            "config : [-1, -1]\n",
            "\n",
            "2.8030662536621094\n",
            "Stared  45 nodes :  "
          ]
        },
        {
          "output_type": "stream",
          "name": "stderr",
          "text": [
            "<ipython-input-115-85d5cccf882c>:11: FutureWarning: The frame.append method is deprecated and will be removed from pandas in a future version. Use pandas.concat instead.\n",
            "  d = d.append(df.iloc[record], ignore_index = True)\n"
          ]
        },
        {
          "output_type": "stream",
          "name": "stdout",
          "text": [
            "Cluster at level 0 with 180 divided into 112 and 68 nodes.\n",
            "items : [0, 1, 2, 3, 4, 5, 6, 7, 8, 9, 10, 11, 12, 13, 14, 15, 16, 17, 18, 19, 20, 21, 22, 23, 24, 25, 26, 27, 28, 29, 30, 31, 32, 33, 34, 35, 36, 37, 38, 39, 40, 41, 42, 43, 44, 45, 46, 47, 48, 49, 50, 51, 52, 53, 54, 55, 56, 57, 58, 59, 60, 61, 62, 63, 64, 65, 66, 67, 68, 69, 70, 71, 72, 73, 74, 75, 76, 77, 78, 79, 80, 81, 82, 83, 84, 85, 86, 87, 88, 89, 90, 91, 92, 93, 94, 95, 96, 97, 98, 99, 100, 101, 102, 103, 104, 105, 106, 107, 108, 109, 110, 111, 112, 113, 114, 115, 116, 117, 118, 119, 120, 121, 122, 123, 124, 125, 126, 127, 128, 129, 130, 131, 132, 133, 134, 135, 136, 137, 138, 139, 140, 141, 142, 143, 144, 145, 146, 147, 148, 149, 150, 151, 152, 153, 154, 155, 156, 157, 158, 159, 160, 161, 162, 163, 164, 165, 166, 167, 168, 169, 170, 171, 172, 173, 174, 175, 176, 177, 178, 179]\n",
            "level : 0\n",
            "config : []\n",
            "\n",
            "Cluster at level 1 with 112 divided into 65 and 47 nodes.\n",
            "items : [0, 5, 7, 8, 11, 12, 15, 16, 19, 21, 23, 26, 28, 34, 36, 40, 41, 46, 47, 48, 49, 51, 52, 53, 54, 56, 57, 58, 60, 61, 62, 63, 64, 65, 66, 67, 68, 69, 70, 71, 72, 73, 74, 75, 76, 77, 80, 81, 82, 83, 84, 85, 86, 87, 88, 90, 91, 96, 97, 100, 106, 109, 110, 111, 112, 116, 117, 119, 120, 122, 124, 125, 130, 131, 132, 134, 135, 137, 138, 140, 141, 143, 144, 145, 146, 147, 148, 149, 150, 151, 152, 153, 154, 155, 156, 158, 160, 161, 163, 164, 165, 167, 168, 169, 170, 171, 172, 173, 174, 177, 178, 179]\n",
            "level : 1\n",
            "config : [-1]\n",
            "\n",
            "Cluster at level 1 with 68 divided into 33 and 35 nodes.\n",
            "items : [1, 2, 3, 4, 6, 9, 10, 13, 14, 17, 18, 20, 22, 24, 25, 27, 29, 30, 31, 32, 33, 35, 37, 38, 39, 42, 43, 44, 45, 50, 55, 59, 78, 79, 89, 92, 93, 94, 95, 98, 99, 101, 102, 103, 104, 105, 107, 108, 113, 114, 115, 118, 121, 123, 126, 127, 128, 129, 133, 136, 139, 142, 157, 159, 162, 166, 175, 176]\n",
            "level : 1\n",
            "config : [1]\n",
            "\n",
            "Cluster at level 2 with 65 divided into 36 and 29 nodes.\n",
            "items : [0, 5, 7, 8, 11, 12, 15, 19, 23, 36, 48, 51, 54, 58, 61, 62, 65, 67, 69, 72, 74, 75, 77, 80, 82, 83, 85, 86, 88, 90, 91, 96, 97, 100, 106, 109, 112, 117, 119, 120, 130, 131, 134, 137, 141, 143, 146, 147, 150, 151, 152, 153, 154, 156, 160, 161, 163, 165, 167, 168, 170, 171, 172, 173, 174]\n",
            "level : 2\n",
            "config : [-1, -1]\n",
            "\n",
            "3.0652103424072266\n",
            "Stared  50 nodes :  "
          ]
        },
        {
          "output_type": "stream",
          "name": "stderr",
          "text": [
            "<ipython-input-115-85d5cccf882c>:11: FutureWarning: The frame.append method is deprecated and will be removed from pandas in a future version. Use pandas.concat instead.\n",
            "  d = d.append(df.iloc[record], ignore_index = True)\n"
          ]
        },
        {
          "output_type": "stream",
          "name": "stdout",
          "text": [
            "Cluster at level 0 with 200 divided into 75 and 125 nodes.\n",
            "items : [0, 1, 2, 3, 4, 5, 6, 7, 8, 9, 10, 11, 12, 13, 14, 15, 16, 17, 18, 19, 20, 21, 22, 23, 24, 25, 26, 27, 28, 29, 30, 31, 32, 33, 34, 35, 36, 37, 38, 39, 40, 41, 42, 43, 44, 45, 46, 47, 48, 49, 50, 51, 52, 53, 54, 55, 56, 57, 58, 59, 60, 61, 62, 63, 64, 65, 66, 67, 68, 69, 70, 71, 72, 73, 74, 75, 76, 77, 78, 79, 80, 81, 82, 83, 84, 85, 86, 87, 88, 89, 90, 91, 92, 93, 94, 95, 96, 97, 98, 99, 100, 101, 102, 103, 104, 105, 106, 107, 108, 109, 110, 111, 112, 113, 114, 115, 116, 117, 118, 119, 120, 121, 122, 123, 124, 125, 126, 127, 128, 129, 130, 131, 132, 133, 134, 135, 136, 137, 138, 139, 140, 141, 142, 143, 144, 145, 146, 147, 148, 149, 150, 151, 152, 153, 154, 155, 156, 157, 158, 159, 160, 161, 162, 163, 164, 165, 166, 167, 168, 169, 170, 171, 172, 173, 174, 175, 176, 177, 178, 179, 180, 181, 182, 183, 184, 185, 186, 187, 188, 189, 190, 191, 192, 193, 194, 195, 196, 197, 198, 199]\n",
            "level : 0\n",
            "config : []\n",
            "\n",
            "Cluster at level 1 with 125 divided into 65 and 60 nodes.\n",
            "items : [1, 2, 4, 5, 6, 11, 13, 18, 20, 25, 26, 27, 29, 32, 36, 38, 39, 42, 43, 44, 45, 46, 47, 48, 49, 50, 51, 52, 53, 55, 56, 57, 58, 59, 60, 61, 63, 64, 68, 69, 70, 71, 72, 73, 74, 75, 76, 77, 79, 83, 84, 86, 87, 93, 94, 96, 97, 98, 99, 102, 103, 104, 108, 109, 110, 112, 113, 114, 115, 116, 117, 118, 119, 120, 121, 122, 123, 128, 130, 133, 135, 141, 143, 144, 145, 148, 149, 151, 152, 155, 156, 157, 158, 159, 160, 162, 163, 165, 166, 167, 168, 169, 171, 173, 175, 176, 177, 178, 180, 181, 182, 183, 184, 185, 187, 188, 189, 190, 191, 192, 193, 194, 195, 196, 199]\n",
            "level : 1\n",
            "config : [1]\n",
            "\n",
            "Cluster at level 2 with 65 divided into 37 and 28 nodes.\n",
            "items : [11, 26, 36, 39, 45, 46, 51, 52, 53, 56, 58, 59, 61, 63, 68, 69, 70, 71, 72, 73, 74, 75, 76, 79, 83, 84, 86, 87, 93, 94, 96, 97, 98, 122, 151, 152, 155, 156, 158, 159, 160, 162, 163, 165, 167, 168, 169, 171, 173, 175, 176, 178, 180, 183, 184, 185, 187, 188, 189, 190, 191, 192, 193, 194, 199]\n",
            "level : 2\n",
            "config : [1, -1]\n",
            "\n",
            "Cluster at level 1 with 75 divided into 57 and 18 nodes.\n",
            "items : [0, 3, 7, 8, 9, 10, 12, 14, 15, 16, 17, 19, 21, 22, 23, 24, 28, 30, 31, 33, 34, 35, 37, 40, 41, 54, 62, 65, 66, 67, 78, 80, 81, 82, 85, 88, 89, 90, 91, 92, 95, 100, 101, 105, 106, 107, 111, 124, 125, 126, 127, 129, 131, 132, 134, 136, 137, 138, 139, 140, 142, 146, 147, 150, 153, 154, 161, 164, 170, 172, 174, 179, 186, 197, 198]\n",
            "level : 1\n",
            "config : [-1]\n",
            "\n",
            "3.41028094291687\n"
          ]
        }
      ]
    },
    {
      "cell_type": "code",
      "source": [
        "tsallisDict"
      ],
      "metadata": {
        "colab": {
          "base_uri": "https://localhost:8080/"
        },
        "id": "WcVtJgvKOmkR",
        "outputId": "e76d1e18-3eb6-4dc4-ca26-314ab8b718dc"
      },
      "execution_count": null,
      "outputs": [
        {
          "output_type": "execute_result",
          "data": {
            "text/plain": [
              "{100: 3.2163214683532715,\n",
              " 120: 2.610410213470459,\n",
              " 140: 2.7826590538024902,\n",
              " 160: 2.8030662536621094,\n",
              " 180: 3.0652103424072266,\n",
              " 200: 3.41028094291687}"
            ]
          },
          "metadata": {},
          "execution_count": 116
        }
      ]
    },
    {
      "cell_type": "markdown",
      "source": [
        "# RenyisEntropy"
      ],
      "metadata": {
        "id": "ztYm08xgWar1"
      }
    },
    {
      "cell_type": "code",
      "source": [
        "from heapq import heappush, heappop\n",
        "treeMemo = dict()\n",
        "wcssMemo = dict()\n",
        "def divisiveCluster(disMat_df, leafLength) -> ClusterNode : \n",
        "  n = disMat_df.shape[0]\n",
        "  root = ClusterNode (\n",
        "      items = list(range(n)),\n",
        "      level = 0,\n",
        "      config = []\n",
        "  )\n",
        "\n",
        "  q = [(0, root)]\n",
        "\n",
        "  while len(q) <= max_clusters : \n",
        "    treeMemo[len(q)] = q.copy()\n",
        "    # total_WCSS = sum([-(i* len(j.items)) for i, j in q])\n",
        "    total_WCSS = sum([-i for i, j in q])\n",
        "    wcssMemo[len(q)] = total_WCSS / len(q)\n",
        "    _, currNode = q.pop(0)\n",
        "    if len(currNode.items) < leafLength : continue\n",
        "    # print('Cluster at level : ', currNode.level, 'is divided into ', end = \" \")\n",
        "    adj = getAdj(currNode.items, disMat_df)\n",
        "    problem = BinaryQP(adj)\n",
        "    lables = getLables(problem, RenyiGrad)\n",
        "    pos =  []\n",
        "    neg = []\n",
        "    for item, lable in zip(currNode.items, lables) : \n",
        "      if lable > 0 : pos.append(item)\n",
        "      else : neg.append(item)\n",
        "\n",
        "    leftCluster = ClusterNode(items = neg, level = currNode.level + 1, config = currNode.config + [-1])\n",
        "    rightCluster = ClusterNode(items = pos, level = currNode.level+ 1, config = currNode.config + [1] )\n",
        "    currNode.left = leftCluster\n",
        "    currNode.right = rightCluster \n",
        "    heappush(q, (-getWCSS(leftCluster), leftCluster))\n",
        "    heappush(q, (-getWCSS(rightCluster), rightCluster))\n",
        "\n",
        "    print('Cluster at level '+ str(currNode.level) +  ' with ' +  str(len(currNode.items)) + ' divided into ' + str( len(currNode.left.items))  +' and ' + str(len(currNode.right.items)) + ' nodes.'   )\n",
        "    print(currNode)\n",
        "\n",
        "\n",
        "\n",
        "  return root"
      ],
      "metadata": {
        "id": "Gwl1jssIOyyD"
      },
      "execution_count": null,
      "outputs": []
    },
    {
      "cell_type": "code",
      "source": [
        "from collections import defaultdict\n",
        "for nodes in range(5, 11) : \n",
        "  print('Stared ', nodes * 5, 'nodes : ', end = \" \")\n",
        "  dfMemo = defaultdict(lambda : set())\n",
        "  for ind, record in df.iterrows() :\n",
        "    if len(dfMemo[record['numLables']]) < nodes * 5 : \n",
        "      dfMemo[record['numLables']].add(ind)\n",
        "  d = pd.DataFrame()\n",
        "  for _, records in dfMemo.items() : \n",
        "    for record in records : \n",
        "      d = d.append(df.iloc[record], ignore_index = True)\n",
        "  disMat = getDissimMatrix(d)\n",
        "  disMat_df = pd.DataFrame(disMat, columns = d.index, index = d.index)\n",
        "  problem = BinaryQP(disMat)\n",
        "  n = disMat.shape[0]\n",
        "  def getAdj(nodes, disMat_df) : \n",
        "    n = len(nodes)\n",
        "    return disMat_df.iloc[nodes, nodes].to_numpy()\n",
        "  start_time = time.time()\n",
        "\n",
        "\n",
        "  rootCluster = divisiveCluster(disMat_df,20)\n",
        "  clusters = treeMemo[4]\n",
        "  memo = dict()\n",
        "  for id, _ in enumerate(clusters) : \n",
        "    _, cluster = _\n",
        "    for item in cluster.items : \n",
        "      memo[item] = id\n",
        "  vals = sorted(memo.items())\n",
        "  vals = [i for j, i in vals]\n",
        "  d['pred'] = vals\n",
        "  from collections import defaultdict\n",
        "  jacScores = pd.DataFrame(np.zeros(36).reshape(6, 6))\n",
        "  true_labels = d['numLables'].tolist()\n",
        "  predicted_labels = d['pred'].tolist()\n",
        "\n",
        "  truths = defaultdict(lambda : set())\n",
        "  preds = defaultdict(lambda : set())\n",
        "\n",
        "  for ind, label in enumerate(true_labels) :\n",
        "      truths[label].add(ind)\n",
        "\n",
        "  for ind, label in enumerate(predicted_labels) : \n",
        "      preds[label].add(ind)\n",
        "\n",
        "  for t in range(4) : \n",
        "      for p in range(4) : \n",
        "          jacScores.iloc[t,p] = len(truths[t].intersection(preds[p])) \n",
        "\n",
        "  from heapq import heapify, heappush, heappop\n",
        "  heap = [] #(val, ground, pred)\n",
        "  for t in range(4) : \n",
        "      for p in range(4) : \n",
        "          heappush(heap, (-jacScores.iloc[t, p], t, p ))\n",
        "  groundSeen = set()\n",
        "  predSeen = set()\n",
        "  mappedLabels = dict()\n",
        "  while len(groundSeen) != 4 :\n",
        "      _, t, p = heappop(heap)\n",
        "      if t in groundSeen or p in predSeen : continue\n",
        "      mappedLabels[p] = t\n",
        "      groundSeen.add(t)\n",
        "      predSeen.add(p)\n",
        "\n",
        "  d['mapped'] = d['pred'].map(lambda x : mappedLabels[x])\n",
        "\n",
        "  end_time = time.time()\n",
        "  renyiDict[nodes* 5 * 4 ] = end_time - start_time"
      ],
      "metadata": {
        "colab": {
          "base_uri": "https://localhost:8080/"
        },
        "id": "RdaQaS77Wfdz",
        "outputId": "c6d963db-ba76-479c-fd62-8788276867e6"
      },
      "execution_count": null,
      "outputs": [
        {
          "output_type": "stream",
          "name": "stdout",
          "text": [
            "Stared  25 nodes :  "
          ]
        },
        {
          "output_type": "stream",
          "name": "stderr",
          "text": [
            "<ipython-input-118-419fc2a23cc4>:11: FutureWarning: The frame.append method is deprecated and will be removed from pandas in a future version. Use pandas.concat instead.\n",
            "  d = d.append(df.iloc[record], ignore_index = True)\n"
          ]
        },
        {
          "output_type": "stream",
          "name": "stdout",
          "text": [
            "Cluster at level 0 with 100 divided into 52 and 48 nodes.\n",
            "items : [0, 1, 2, 3, 4, 5, 6, 7, 8, 9, 10, 11, 12, 13, 14, 15, 16, 17, 18, 19, 20, 21, 22, 23, 24, 25, 26, 27, 28, 29, 30, 31, 32, 33, 34, 35, 36, 37, 38, 39, 40, 41, 42, 43, 44, 45, 46, 47, 48, 49, 50, 51, 52, 53, 54, 55, 56, 57, 58, 59, 60, 61, 62, 63, 64, 65, 66, 67, 68, 69, 70, 71, 72, 73, 74, 75, 76, 77, 78, 79, 80, 81, 82, 83, 84, 85, 86, 87, 88, 89, 90, 91, 92, 93, 94, 95, 96, 97, 98, 99]\n",
            "level : 0\n",
            "config : []\n",
            "\n",
            "Cluster at level 1 with 48 divided into 24 and 24 nodes.\n",
            "items : [1, 2, 3, 4, 5, 6, 7, 8, 10, 12, 13, 14, 15, 16, 18, 20, 21, 22, 25, 30, 33, 40, 45, 50, 52, 53, 54, 56, 57, 58, 59, 60, 61, 62, 63, 64, 67, 68, 69, 70, 72, 73, 74, 79, 87, 92, 95, 96]\n",
            "level : 1\n",
            "config : [1]\n",
            "\n",
            "Cluster at level 1 with 52 divided into 28 and 24 nodes.\n",
            "items : [0, 9, 11, 17, 19, 23, 24, 26, 27, 28, 29, 31, 32, 34, 35, 36, 37, 38, 39, 41, 42, 43, 44, 46, 47, 48, 49, 51, 55, 65, 66, 71, 75, 76, 77, 78, 80, 81, 82, 83, 84, 85, 86, 88, 89, 90, 91, 93, 94, 97, 98, 99]\n",
            "level : 1\n",
            "config : [-1]\n",
            "\n",
            "Cluster at level 2 with 24 divided into 12 and 12 nodes.\n",
            "items : [25, 33, 40, 45, 50, 52, 53, 54, 56, 57, 59, 60, 61, 62, 63, 64, 67, 68, 70, 72, 73, 74, 79, 95]\n",
            "level : 2\n",
            "config : [1, -1]\n",
            "\n",
            "Stared  30 nodes :  "
          ]
        },
        {
          "output_type": "stream",
          "name": "stderr",
          "text": [
            "<ipython-input-118-419fc2a23cc4>:11: FutureWarning: The frame.append method is deprecated and will be removed from pandas in a future version. Use pandas.concat instead.\n",
            "  d = d.append(df.iloc[record], ignore_index = True)\n"
          ]
        },
        {
          "output_type": "stream",
          "name": "stdout",
          "text": [
            "Cluster at level 0 with 120 divided into 63 and 57 nodes.\n",
            "items : [0, 1, 2, 3, 4, 5, 6, 7, 8, 9, 10, 11, 12, 13, 14, 15, 16, 17, 18, 19, 20, 21, 22, 23, 24, 25, 26, 27, 28, 29, 30, 31, 32, 33, 34, 35, 36, 37, 38, 39, 40, 41, 42, 43, 44, 45, 46, 47, 48, 49, 50, 51, 52, 53, 54, 55, 56, 57, 58, 59, 60, 61, 62, 63, 64, 65, 66, 67, 68, 69, 70, 71, 72, 73, 74, 75, 76, 77, 78, 79, 80, 81, 82, 83, 84, 85, 86, 87, 88, 89, 90, 91, 92, 93, 94, 95, 96, 97, 98, 99, 100, 101, 102, 103, 104, 105, 106, 107, 108, 109, 110, 111, 112, 113, 114, 115, 116, 117, 118, 119]\n",
            "level : 0\n",
            "config : []\n",
            "\n",
            "Cluster at level 1 with 57 divided into 30 and 27 nodes.\n",
            "items : [1, 2, 3, 4, 6, 7, 8, 9, 10, 14, 15, 16, 17, 18, 20, 22, 23, 24, 27, 28, 29, 30, 35, 38, 45, 56, 57, 60, 62, 63, 64, 66, 67, 68, 69, 70, 71, 72, 73, 74, 78, 79, 80, 82, 83, 84, 85, 86, 87, 88, 94, 97, 100, 107, 112, 115, 116]\n",
            "level : 1\n",
            "config : [1]\n",
            "\n",
            "Cluster at level 1 with 63 divided into 29 and 34 nodes.\n",
            "items : [0, 5, 11, 12, 13, 19, 21, 25, 26, 31, 32, 33, 34, 36, 37, 39, 40, 41, 42, 43, 44, 46, 47, 48, 49, 50, 51, 52, 53, 54, 55, 58, 59, 61, 65, 75, 76, 77, 81, 89, 90, 91, 92, 93, 95, 96, 98, 99, 101, 102, 103, 104, 105, 106, 108, 109, 110, 111, 113, 114, 117, 118, 119]\n",
            "level : 1\n",
            "config : [-1]\n",
            "\n",
            "Cluster at level 2 with 30 divided into 15 and 15 nodes.\n",
            "items : [1, 2, 3, 4, 6, 7, 8, 9, 10, 14, 15, 16, 18, 20, 22, 23, 24, 27, 28, 29, 35, 62, 68, 71, 82, 85, 97, 100, 112, 116]\n",
            "level : 2\n",
            "config : [1, -1]\n",
            "\n",
            "Stared  35 nodes :  "
          ]
        },
        {
          "output_type": "stream",
          "name": "stderr",
          "text": [
            "<ipython-input-118-419fc2a23cc4>:11: FutureWarning: The frame.append method is deprecated and will be removed from pandas in a future version. Use pandas.concat instead.\n",
            "  d = d.append(df.iloc[record], ignore_index = True)\n"
          ]
        },
        {
          "output_type": "stream",
          "name": "stdout",
          "text": [
            "Cluster at level 0 with 140 divided into 77 and 63 nodes.\n",
            "items : [0, 1, 2, 3, 4, 5, 6, 7, 8, 9, 10, 11, 12, 13, 14, 15, 16, 17, 18, 19, 20, 21, 22, 23, 24, 25, 26, 27, 28, 29, 30, 31, 32, 33, 34, 35, 36, 37, 38, 39, 40, 41, 42, 43, 44, 45, 46, 47, 48, 49, 50, 51, 52, 53, 54, 55, 56, 57, 58, 59, 60, 61, 62, 63, 64, 65, 66, 67, 68, 69, 70, 71, 72, 73, 74, 75, 76, 77, 78, 79, 80, 81, 82, 83, 84, 85, 86, 87, 88, 89, 90, 91, 92, 93, 94, 95, 96, 97, 98, 99, 100, 101, 102, 103, 104, 105, 106, 107, 108, 109, 110, 111, 112, 113, 114, 115, 116, 117, 118, 119, 120, 121, 122, 123, 124, 125, 126, 127, 128, 129, 130, 131, 132, 133, 134, 135, 136, 137, 138, 139]\n",
            "level : 0\n",
            "config : []\n",
            "\n",
            "Cluster at level 1 with 63 divided into 32 and 31 nodes.\n",
            "items : [1, 2, 3, 4, 6, 7, 9, 10, 13, 14, 15, 19, 20, 21, 22, 23, 25, 27, 28, 29, 32, 33, 34, 35, 40, 43, 50, 61, 62, 70, 72, 73, 74, 76, 77, 78, 79, 80, 81, 82, 83, 84, 88, 89, 90, 92, 93, 94, 95, 96, 98, 101, 102, 103, 104, 106, 109, 112, 115, 121, 127, 135, 136]\n",
            "level : 1\n",
            "config : [1]\n",
            "\n",
            "Cluster at level 1 with 77 divided into 41 and 36 nodes.\n",
            "items : [0, 5, 8, 11, 12, 16, 17, 18, 24, 26, 30, 31, 36, 37, 38, 39, 41, 42, 44, 45, 46, 47, 48, 49, 51, 52, 53, 54, 55, 56, 57, 58, 59, 60, 63, 64, 65, 66, 67, 68, 69, 71, 75, 85, 86, 87, 91, 97, 99, 100, 105, 107, 108, 110, 111, 113, 114, 116, 117, 118, 119, 120, 122, 123, 124, 125, 126, 128, 129, 130, 131, 132, 133, 134, 137, 138, 139]\n",
            "level : 1\n",
            "config : [-1]\n",
            "\n",
            "Cluster at level 2 with 41 divided into 21 and 20 nodes.\n",
            "items : [0, 5, 8, 12, 16, 17, 18, 36, 42, 44, 48, 51, 53, 54, 55, 57, 58, 63, 64, 65, 68, 69, 71, 75, 85, 86, 87, 91, 99, 100, 108, 111, 113, 116, 119, 122, 125, 131, 132, 137, 138]\n",
            "level : 2\n",
            "config : [-1, -1]\n",
            "\n",
            "Stared  40 nodes :  "
          ]
        },
        {
          "output_type": "stream",
          "name": "stderr",
          "text": [
            "<ipython-input-118-419fc2a23cc4>:11: FutureWarning: The frame.append method is deprecated and will be removed from pandas in a future version. Use pandas.concat instead.\n",
            "  d = d.append(df.iloc[record], ignore_index = True)\n"
          ]
        },
        {
          "output_type": "stream",
          "name": "stdout",
          "text": [
            "Cluster at level 0 with 160 divided into 72 and 88 nodes.\n",
            "items : [0, 1, 2, 3, 4, 5, 6, 7, 8, 9, 10, 11, 12, 13, 14, 15, 16, 17, 18, 19, 20, 21, 22, 23, 24, 25, 26, 27, 28, 29, 30, 31, 32, 33, 34, 35, 36, 37, 38, 39, 40, 41, 42, 43, 44, 45, 46, 47, 48, 49, 50, 51, 52, 53, 54, 55, 56, 57, 58, 59, 60, 61, 62, 63, 64, 65, 66, 67, 68, 69, 70, 71, 72, 73, 74, 75, 76, 77, 78, 79, 80, 81, 82, 83, 84, 85, 86, 87, 88, 89, 90, 91, 92, 93, 94, 95, 96, 97, 98, 99, 100, 101, 102, 103, 104, 105, 106, 107, 108, 109, 110, 111, 112, 113, 114, 115, 116, 117, 118, 119, 120, 121, 122, 123, 124, 125, 126, 127, 128, 129, 130, 131, 132, 133, 134, 135, 136, 137, 138, 139, 140, 141, 142, 143, 144, 145, 146, 147, 148, 149, 150, 151, 152, 153, 154, 155, 156, 157, 158, 159]\n",
            "level : 0\n",
            "config : []\n",
            "\n",
            "Cluster at level 1 with 88 divided into 48 and 40 nodes.\n",
            "items : [5, 8, 11, 12, 16, 21, 29, 31, 35, 36, 41, 42, 43, 44, 45, 46, 48, 49, 51, 52, 53, 54, 55, 56, 57, 58, 59, 60, 61, 62, 63, 64, 65, 66, 67, 70, 71, 72, 73, 74, 75, 76, 77, 78, 81, 85, 94, 95, 96, 97, 101, 105, 107, 109, 110, 117, 119, 120, 121, 122, 123, 125, 126, 128, 129, 131, 132, 133, 134, 135, 137, 138, 139, 140, 141, 143, 145, 146, 148, 149, 150, 151, 152, 153, 154, 157, 158, 159]\n",
            "level : 1\n",
            "config : [1]\n",
            "\n",
            "Cluster at level 1 with 72 divided into 36 and 36 nodes.\n",
            "items : [0, 1, 2, 3, 4, 6, 7, 9, 10, 13, 14, 15, 17, 18, 19, 20, 22, 23, 24, 25, 26, 27, 28, 30, 32, 33, 34, 37, 38, 39, 40, 47, 50, 68, 69, 79, 80, 82, 83, 84, 86, 87, 88, 89, 90, 91, 92, 93, 98, 99, 100, 102, 103, 104, 106, 108, 111, 112, 113, 114, 115, 116, 118, 124, 127, 130, 136, 142, 144, 147, 155, 156]\n",
            "level : 1\n",
            "config : [-1]\n",
            "\n",
            "Cluster at level 2 with 48 divided into 23 and 25 nodes.\n",
            "items : [5, 8, 12, 21, 42, 44, 49, 51, 55, 57, 58, 60, 61, 62, 64, 65, 70, 71, 72, 75, 76, 77, 81, 85, 94, 95, 96, 97, 101, 105, 109, 110, 117, 120, 123, 126, 128, 131, 132, 134, 137, 140, 148, 149, 151, 152, 157, 158]\n",
            "level : 2\n",
            "config : [1, -1]\n",
            "\n",
            "Stared  45 nodes :  "
          ]
        },
        {
          "output_type": "stream",
          "name": "stderr",
          "text": [
            "<ipython-input-118-419fc2a23cc4>:11: FutureWarning: The frame.append method is deprecated and will be removed from pandas in a future version. Use pandas.concat instead.\n",
            "  d = d.append(df.iloc[record], ignore_index = True)\n"
          ]
        },
        {
          "output_type": "stream",
          "name": "stdout",
          "text": [
            "Cluster at level 0 with 180 divided into 99 and 81 nodes.\n",
            "items : [0, 1, 2, 3, 4, 5, 6, 7, 8, 9, 10, 11, 12, 13, 14, 15, 16, 17, 18, 19, 20, 21, 22, 23, 24, 25, 26, 27, 28, 29, 30, 31, 32, 33, 34, 35, 36, 37, 38, 39, 40, 41, 42, 43, 44, 45, 46, 47, 48, 49, 50, 51, 52, 53, 54, 55, 56, 57, 58, 59, 60, 61, 62, 63, 64, 65, 66, 67, 68, 69, 70, 71, 72, 73, 74, 75, 76, 77, 78, 79, 80, 81, 82, 83, 84, 85, 86, 87, 88, 89, 90, 91, 92, 93, 94, 95, 96, 97, 98, 99, 100, 101, 102, 103, 104, 105, 106, 107, 108, 109, 110, 111, 112, 113, 114, 115, 116, 117, 118, 119, 120, 121, 122, 123, 124, 125, 126, 127, 128, 129, 130, 131, 132, 133, 134, 135, 136, 137, 138, 139, 140, 141, 142, 143, 144, 145, 146, 147, 148, 149, 150, 151, 152, 153, 154, 155, 156, 157, 158, 159, 160, 161, 162, 163, 164, 165, 166, 167, 168, 169, 170, 171, 172, 173, 174, 175, 176, 177, 178, 179]\n",
            "level : 0\n",
            "config : []\n",
            "\n",
            "Cluster at level 1 with 99 divided into 52 and 47 nodes.\n",
            "items : [0, 5, 7, 8, 11, 12, 16, 21, 23, 26, 28, 34, 36, 40, 41, 46, 47, 48, 49, 51, 53, 54, 56, 57, 58, 60, 61, 62, 63, 64, 65, 66, 68, 69, 70, 71, 72, 73, 74, 75, 76, 77, 80, 81, 82, 83, 84, 85, 86, 87, 88, 90, 96, 100, 109, 110, 111, 112, 116, 117, 120, 124, 125, 132, 135, 137, 138, 140, 141, 143, 144, 145, 146, 147, 148, 149, 150, 151, 152, 153, 154, 155, 156, 158, 161, 163, 164, 165, 167, 168, 169, 170, 171, 172, 173, 174, 177, 178, 179]\n",
            "level : 1\n",
            "config : [-1]\n",
            "\n",
            "Cluster at level 1 with 81 divided into 41 and 40 nodes.\n",
            "items : [1, 2, 3, 4, 6, 9, 10, 13, 14, 15, 17, 18, 19, 20, 22, 24, 25, 27, 29, 30, 31, 32, 33, 35, 37, 38, 39, 42, 43, 44, 45, 50, 52, 55, 59, 67, 78, 79, 89, 91, 92, 93, 94, 95, 97, 98, 99, 101, 102, 103, 104, 105, 106, 107, 108, 113, 114, 115, 118, 119, 121, 122, 123, 126, 127, 128, 129, 130, 131, 133, 134, 136, 139, 142, 157, 159, 160, 162, 166, 175, 176]\n",
            "level : 1\n",
            "config : [1]\n",
            "\n",
            "Cluster at level 2 with 52 divided into 24 and 28 nodes.\n",
            "items : [0, 5, 7, 8, 12, 21, 23, 26, 28, 49, 58, 60, 61, 65, 68, 70, 71, 72, 74, 75, 80, 81, 82, 85, 86, 90, 96, 100, 109, 110, 111, 112, 116, 117, 120, 124, 125, 132, 138, 141, 143, 146, 149, 151, 152, 155, 167, 170, 171, 172, 177, 178]\n",
            "level : 2\n",
            "config : [-1, -1]\n",
            "\n",
            "Stared  50 nodes :  "
          ]
        },
        {
          "output_type": "stream",
          "name": "stderr",
          "text": [
            "<ipython-input-118-419fc2a23cc4>:11: FutureWarning: The frame.append method is deprecated and will be removed from pandas in a future version. Use pandas.concat instead.\n",
            "  d = d.append(df.iloc[record], ignore_index = True)\n"
          ]
        },
        {
          "output_type": "stream",
          "name": "stdout",
          "text": [
            "Cluster at level 0 with 200 divided into 94 and 106 nodes.\n",
            "items : [0, 1, 2, 3, 4, 5, 6, 7, 8, 9, 10, 11, 12, 13, 14, 15, 16, 17, 18, 19, 20, 21, 22, 23, 24, 25, 26, 27, 28, 29, 30, 31, 32, 33, 34, 35, 36, 37, 38, 39, 40, 41, 42, 43, 44, 45, 46, 47, 48, 49, 50, 51, 52, 53, 54, 55, 56, 57, 58, 59, 60, 61, 62, 63, 64, 65, 66, 67, 68, 69, 70, 71, 72, 73, 74, 75, 76, 77, 78, 79, 80, 81, 82, 83, 84, 85, 86, 87, 88, 89, 90, 91, 92, 93, 94, 95, 96, 97, 98, 99, 100, 101, 102, 103, 104, 105, 106, 107, 108, 109, 110, 111, 112, 113, 114, 115, 116, 117, 118, 119, 120, 121, 122, 123, 124, 125, 126, 127, 128, 129, 130, 131, 132, 133, 134, 135, 136, 137, 138, 139, 140, 141, 142, 143, 144, 145, 146, 147, 148, 149, 150, 151, 152, 153, 154, 155, 156, 157, 158, 159, 160, 161, 162, 163, 164, 165, 166, 167, 168, 169, 170, 171, 172, 173, 174, 175, 176, 177, 178, 179, 180, 181, 182, 183, 184, 185, 186, 187, 188, 189, 190, 191, 192, 193, 194, 195, 196, 197, 198, 199]\n",
            "level : 0\n",
            "config : []\n",
            "\n",
            "Cluster at level 1 with 106 divided into 50 and 56 nodes.\n",
            "items : [5, 7, 8, 11, 12, 16, 21, 23, 26, 28, 31, 36, 39, 40, 45, 46, 51, 52, 53, 54, 56, 58, 59, 61, 62, 63, 65, 66, 67, 68, 69, 70, 71, 72, 73, 74, 75, 76, 78, 79, 80, 81, 82, 83, 84, 85, 86, 87, 90, 91, 92, 93, 94, 95, 96, 97, 98, 100, 101, 106, 111, 122, 124, 125, 126, 127, 131, 139, 140, 147, 150, 152, 153, 155, 156, 158, 159, 161, 162, 163, 164, 165, 167, 168, 169, 170, 171, 173, 176, 178, 179, 180, 182, 183, 184, 185, 186, 187, 189, 191, 192, 193, 194, 197, 198, 199]\n",
            "level : 1\n",
            "config : [1]\n",
            "\n",
            "Cluster at level 1 with 94 divided into 49 and 45 nodes.\n",
            "items : [0, 1, 2, 3, 4, 6, 9, 10, 13, 14, 15, 17, 18, 19, 20, 22, 24, 25, 27, 29, 30, 32, 33, 34, 35, 37, 38, 41, 42, 43, 44, 47, 48, 49, 50, 55, 57, 60, 64, 77, 88, 89, 99, 102, 103, 104, 105, 107, 108, 109, 110, 112, 113, 114, 115, 116, 117, 118, 119, 120, 121, 123, 128, 129, 130, 132, 133, 134, 135, 136, 137, 138, 141, 142, 143, 144, 145, 146, 148, 149, 151, 154, 157, 160, 166, 172, 174, 175, 177, 181, 188, 190, 195, 196]\n",
            "level : 1\n",
            "config : [-1]\n",
            "\n",
            "Cluster at level 2 with 50 divided into 25 and 25 nodes.\n",
            "items : [11, 16, 36, 39, 45, 46, 51, 52, 53, 56, 58, 59, 61, 62, 67, 68, 69, 70, 72, 73, 74, 76, 79, 83, 86, 87, 93, 94, 97, 98, 150, 152, 159, 163, 165, 168, 169, 171, 173, 176, 178, 180, 183, 184, 189, 191, 192, 193, 194, 199]\n",
            "level : 2\n",
            "config : [1, -1]\n",
            "\n"
          ]
        }
      ]
    },
    {
      "cell_type": "code",
      "source": [
        "renyiDict"
      ],
      "metadata": {
        "colab": {
          "base_uri": "https://localhost:8080/"
        },
        "id": "_bXnurFZWuTG",
        "outputId": "37a3f259-fba8-4762-e92f-295abd9b167c"
      },
      "execution_count": null,
      "outputs": [
        {
          "output_type": "execute_result",
          "data": {
            "text/plain": [
              "{100: 2.7480149269104004,\n",
              " 120: 2.950413465499878,\n",
              " 140: 3.134840488433838,\n",
              " 160: 3.3593311309814453,\n",
              " 180: 3.896790027618408,\n",
              " 200: 5.8015336990356445}"
            ]
          },
          "metadata": {},
          "execution_count": 119
        }
      ]
    },
    {
      "cell_type": "markdown",
      "source": [
        "## Using SDP"
      ],
      "metadata": {
        "id": "OCkPqiNWXf64"
      }
    },
    {
      "cell_type": "code",
      "source": [
        "!pip install cvxpy\n",
        "import cvxpy as cp\n",
        "def solveUsingSDP(problem : BinaryQP) : \n",
        "    C = problem.cost_matrix\n",
        "    D = np.diag(np.sum(C, axis=0))\n",
        "    L = D - C\n",
        "    C = L\n",
        "    n = len(C)\n",
        "    t = 1e-4\n",
        "    X = cp.Variable((n, n), symmetric = True)\n",
        "    obj = cp.trace(C@X)\n",
        "    constraints = [\n",
        "        cp.diag(X) == 1\n",
        "    ]\n",
        "    constraints += [\n",
        "        X - t*np.eye(n) >> 0\n",
        "    ]\n",
        "    prob = cp.Problem(cp.Maximize(obj), constraints)\n",
        "    prob.solve(solver='SCS')\n",
        "    L = np.linalg.cholesky(X.value)\n",
        "    R = np.random.normal(size=(n,2))\n",
        "    Xgw = np.dot(L, R)\n",
        "    labels = np.sign(Xgw[:,0])\n",
        "    return labels"
      ],
      "metadata": {
        "colab": {
          "base_uri": "https://localhost:8080/"
        },
        "id": "tiNU6-nhXyz1",
        "outputId": "ff89511d-3341-432c-bb5d-3e728bfd6a6d"
      },
      "execution_count": null,
      "outputs": [
        {
          "output_type": "stream",
          "name": "stdout",
          "text": [
            "Looking in indexes: https://pypi.org/simple, https://us-python.pkg.dev/colab-wheels/public/simple/\n",
            "Requirement already satisfied: cvxpy in /usr/local/lib/python3.10/dist-packages (1.3.1)\n",
            "Requirement already satisfied: osqp>=0.4.1 in /usr/local/lib/python3.10/dist-packages (from cvxpy) (0.6.2.post8)\n",
            "Requirement already satisfied: ecos>=2 in /usr/local/lib/python3.10/dist-packages (from cvxpy) (2.0.12)\n",
            "Requirement already satisfied: scs>=1.1.6 in /usr/local/lib/python3.10/dist-packages (from cvxpy) (3.2.3)\n",
            "Requirement already satisfied: numpy>=1.15 in /usr/local/lib/python3.10/dist-packages (from cvxpy) (1.22.4)\n",
            "Requirement already satisfied: scipy>=1.1.0 in /usr/local/lib/python3.10/dist-packages (from cvxpy) (1.10.1)\n",
            "Requirement already satisfied: setuptools>65.5.1 in /usr/local/lib/python3.10/dist-packages (from cvxpy) (67.7.2)\n",
            "Requirement already satisfied: qdldl in /usr/local/lib/python3.10/dist-packages (from osqp>=0.4.1->cvxpy) (0.1.7)\n"
          ]
        }
      ]
    },
    {
      "cell_type": "code",
      "source": [
        "def getLables(problem : BinaryQP) : \n",
        "  res = solveUsingSDP(problem)\n",
        "  n = problem.n\n",
        "  lables = list(np.sign(res))\n",
        "  return lables"
      ],
      "metadata": {
        "id": "07F_xNb6Wvw_"
      },
      "execution_count": null,
      "outputs": []
    },
    {
      "cell_type": "code",
      "source": [
        "def divisiveCluster(disMat_df, leafLength) -> ClusterNode : \n",
        "  n = disMat_df.shape[0]\n",
        "  root = ClusterNode (\n",
        "      items = list(range(n)),\n",
        "      level = 0,\n",
        "      config = []\n",
        "  )\n",
        "\n",
        "  q = [(0, root)]\n",
        "\n",
        "  while len(q) <= max_clusters : \n",
        "    treeMemo[len(q)] = q.copy()\n",
        "    # total_WCSS = sum([-(i* len(j.items)) for i, j in q])\n",
        "    total_WCSS = sum([-i for i, j in q])\n",
        "    wcssMemo[len(q)] = total_WCSS / len(q)\n",
        "    _, currNode = q.pop(0)\n",
        "    if len(currNode.items) < leafLength : continue\n",
        "    # print('Cluster at level : ', currNode.level, 'is divided into ', end = \" \")\n",
        "    adj = getAdj(currNode.items, disMat_df)\n",
        "    problem = BinaryQP(adj)\n",
        "    lables = getLables(problem)\n",
        "    pos =  []\n",
        "    neg = []\n",
        "    for item, lable in zip(currNode.items, lables) : \n",
        "      if lable > 0 : pos.append(item)\n",
        "      else : neg.append(item)\n",
        "\n",
        "    leftCluster = ClusterNode(items = neg, level = currNode.level + 1, config = currNode.config + [-1])\n",
        "    rightCluster = ClusterNode(items = pos, level = currNode.level+ 1, config = currNode.config + [1] )\n",
        "    currNode.left = leftCluster\n",
        "    currNode.right = rightCluster \n",
        "    heappush(q, (-getWCSS(leftCluster), leftCluster))\n",
        "    heappush(q, (-getWCSS(rightCluster), rightCluster))\n",
        "\n",
        "    print('Cluster at level '+ str(currNode.level) +  ' with ' +  str(len(currNode.items)) + ' divided into ' + str( len(currNode.left.items))  +' and ' + str(len(currNode.right.items)) + ' nodes.'   )\n",
        "    print(currNode)\n",
        "\n",
        "\n",
        "\n",
        "  return root"
      ],
      "metadata": {
        "id": "Ss6nUYOjXnW_"
      },
      "execution_count": null,
      "outputs": []
    },
    {
      "cell_type": "code",
      "source": [
        "from collections import defaultdict\n",
        "for nodes in range(5, 11) : \n",
        "  print('Stared ', nodes * 5, 'nodes : ', end = \" \")\n",
        "  dfMemo = defaultdict(lambda : set())\n",
        "  for ind, record in df.iterrows() :\n",
        "    if len(dfMemo[record['numLables']]) < nodes * 5 : \n",
        "      dfMemo[record['numLables']].add(ind)\n",
        "  d = pd.DataFrame()\n",
        "  for _, records in dfMemo.items() : \n",
        "    for record in records : \n",
        "      d = d.append(df.iloc[record], ignore_index = True)\n",
        "  disMat = getDissimMatrix(d)\n",
        "  disMat_df = pd.DataFrame(disMat, columns = d.index, index = d.index)\n",
        "  problem = BinaryQP(disMat)\n",
        "  n = disMat.shape[0]\n",
        "  def getAdj(nodes, disMat_df) : \n",
        "    n = len(nodes)\n",
        "    return disMat_df.iloc[nodes, nodes].to_numpy()\n",
        "  start_time = time.time()\n",
        "\n",
        "\n",
        "  rootCluster = divisiveCluster(disMat_df,20)\n",
        "  clusters = treeMemo[4]\n",
        "  memo = dict()\n",
        "  for id, _ in enumerate(clusters) : \n",
        "    _, cluster = _\n",
        "    for item in cluster.items : \n",
        "      memo[item] = id\n",
        "  vals = sorted(memo.items())\n",
        "  vals = [i for j, i in vals]\n",
        "  d['pred'] = vals\n",
        "  from collections import defaultdict\n",
        "  jacScores = pd.DataFrame(np.zeros(36).reshape(6, 6))\n",
        "  true_labels = d['numLables'].tolist()\n",
        "  predicted_labels = d['pred'].tolist()\n",
        "\n",
        "  truths = defaultdict(lambda : set())\n",
        "  preds = defaultdict(lambda : set())\n",
        "\n",
        "  for ind, label in enumerate(true_labels) :\n",
        "      truths[label].add(ind)\n",
        "\n",
        "  for ind, label in enumerate(predicted_labels) : \n",
        "      preds[label].add(ind)\n",
        "\n",
        "  for t in range(4) : \n",
        "      for p in range(4) : \n",
        "          jacScores.iloc[t,p] = len(truths[t].intersection(preds[p])) \n",
        "\n",
        "  from heapq import heapify, heappush, heappop\n",
        "  heap = [] #(val, ground, pred)\n",
        "  for t in range(4) : \n",
        "      for p in range(4) : \n",
        "          heappush(heap, (-jacScores.iloc[t, p], t, p ))\n",
        "  groundSeen = set()\n",
        "  predSeen = set()\n",
        "  mappedLabels = dict()\n",
        "  while len(groundSeen) != 4 :\n",
        "      _, t, p = heappop(heap)\n",
        "      if t in groundSeen or p in predSeen : continue\n",
        "      mappedLabels[p] = t\n",
        "      groundSeen.add(t)\n",
        "      predSeen.add(p)\n",
        "\n",
        "  d['mapped'] = d['pred'].map(lambda x : mappedLabels[x])\n",
        "\n",
        "  end_time = time.time()\n",
        "  sdpDict[nodes* 5 * 4 ] = end_time - start_time"
      ],
      "metadata": {
        "colab": {
          "base_uri": "https://localhost:8080/"
        },
        "id": "keYlPe7YX43d",
        "outputId": "7ddf7315-fb43-4fcb-e099-3a1488c85842"
      },
      "execution_count": null,
      "outputs": [
        {
          "output_type": "stream",
          "name": "stdout",
          "text": [
            "Stared  25 nodes :  "
          ]
        },
        {
          "output_type": "stream",
          "name": "stderr",
          "text": [
            "<ipython-input-123-49053c707bc8>:11: FutureWarning: The frame.append method is deprecated and will be removed from pandas in a future version. Use pandas.concat instead.\n",
            "  d = d.append(df.iloc[record], ignore_index = True)\n"
          ]
        },
        {
          "output_type": "stream",
          "name": "stdout",
          "text": [
            "Cluster at level 0 with 100 divided into 47 and 53 nodes.\n",
            "items : [0, 1, 2, 3, 4, 5, 6, 7, 8, 9, 10, 11, 12, 13, 14, 15, 16, 17, 18, 19, 20, 21, 22, 23, 24, 25, 26, 27, 28, 29, 30, 31, 32, 33, 34, 35, 36, 37, 38, 39, 40, 41, 42, 43, 44, 45, 46, 47, 48, 49, 50, 51, 52, 53, 54, 55, 56, 57, 58, 59, 60, 61, 62, 63, 64, 65, 66, 67, 68, 69, 70, 71, 72, 73, 74, 75, 76, 77, 78, 79, 80, 81, 82, 83, 84, 85, 86, 87, 88, 89, 90, 91, 92, 93, 94, 95, 96, 97, 98, 99]\n",
            "level : 0\n",
            "config : []\n",
            "\n",
            "Cluster at level 1 with 47 divided into 24 and 23 nodes.\n",
            "items : [1, 2, 3, 4, 5, 6, 7, 8, 12, 13, 14, 15, 16, 18, 20, 21, 22, 25, 30, 33, 40, 45, 50, 52, 53, 54, 56, 57, 58, 59, 60, 61, 62, 63, 64, 67, 68, 69, 70, 72, 73, 74, 79, 87, 92, 95, 96]\n",
            "level : 1\n",
            "config : [-1]\n",
            "\n",
            "Cluster at level 1 with 53 divided into 27 and 26 nodes.\n",
            "items : [0, 9, 10, 11, 17, 19, 23, 24, 26, 27, 28, 29, 31, 32, 34, 35, 36, 37, 38, 39, 41, 42, 43, 44, 46, 47, 48, 49, 51, 55, 65, 66, 71, 75, 76, 77, 78, 80, 81, 82, 83, 84, 85, 86, 88, 89, 90, 91, 93, 94, 97, 98, 99]\n",
            "level : 1\n",
            "config : [1]\n",
            "\n",
            "Cluster at level 2 with 24 divided into 11 and 13 nodes.\n",
            "items : [1, 2, 3, 4, 5, 6, 7, 8, 12, 13, 14, 16, 20, 21, 22, 30, 52, 57, 58, 61, 62, 72, 92, 96]\n",
            "level : 2\n",
            "config : [-1, -1]\n",
            "\n",
            "Stared  30 nodes :  "
          ]
        },
        {
          "output_type": "stream",
          "name": "stderr",
          "text": [
            "<ipython-input-123-49053c707bc8>:11: FutureWarning: The frame.append method is deprecated and will be removed from pandas in a future version. Use pandas.concat instead.\n",
            "  d = d.append(df.iloc[record], ignore_index = True)\n"
          ]
        },
        {
          "output_type": "stream",
          "name": "stdout",
          "text": [
            "Cluster at level 0 with 120 divided into 56 and 64 nodes.\n",
            "items : [0, 1, 2, 3, 4, 5, 6, 7, 8, 9, 10, 11, 12, 13, 14, 15, 16, 17, 18, 19, 20, 21, 22, 23, 24, 25, 26, 27, 28, 29, 30, 31, 32, 33, 34, 35, 36, 37, 38, 39, 40, 41, 42, 43, 44, 45, 46, 47, 48, 49, 50, 51, 52, 53, 54, 55, 56, 57, 58, 59, 60, 61, 62, 63, 64, 65, 66, 67, 68, 69, 70, 71, 72, 73, 74, 75, 76, 77, 78, 79, 80, 81, 82, 83, 84, 85, 86, 87, 88, 89, 90, 91, 92, 93, 94, 95, 96, 97, 98, 99, 100, 101, 102, 103, 104, 105, 106, 107, 108, 109, 110, 111, 112, 113, 114, 115, 116, 117, 118, 119]\n",
            "level : 0\n",
            "config : []\n",
            "\n",
            "Cluster at level 1 with 64 divided into 35 and 29 nodes.\n",
            "items : [5, 12, 13, 20, 21, 26, 30, 31, 32, 33, 36, 37, 40, 41, 42, 44, 45, 47, 49, 51, 52, 53, 54, 55, 56, 57, 59, 60, 63, 64, 69, 70, 73, 75, 76, 77, 78, 79, 80, 81, 83, 84, 87, 88, 90, 91, 92, 94, 95, 96, 99, 102, 104, 106, 107, 108, 109, 110, 111, 113, 114, 115, 117, 119]\n",
            "level : 1\n",
            "config : [1]\n",
            "\n",
            "Cluster at level 1 with 56 divided into 28 and 28 nodes.\n",
            "items : [0, 1, 2, 3, 4, 6, 7, 8, 9, 10, 11, 14, 15, 16, 17, 18, 19, 22, 23, 24, 25, 27, 28, 29, 34, 35, 38, 39, 43, 46, 48, 50, 58, 61, 62, 65, 66, 67, 68, 71, 72, 74, 82, 85, 86, 89, 93, 97, 98, 100, 101, 103, 105, 112, 116, 118]\n",
            "level : 1\n",
            "config : [-1]\n",
            "\n",
            "Cluster at level 2 with 35 divided into 17 and 18 nodes.\n",
            "items : [5, 12, 13, 21, 31, 32, 33, 37, 40, 41, 42, 44, 47, 49, 51, 52, 53, 54, 59, 75, 76, 77, 81, 90, 92, 96, 99, 102, 106, 109, 110, 111, 113, 117, 119]\n",
            "level : 2\n",
            "config : [1, -1]\n",
            "\n",
            "Stared  35 nodes :  "
          ]
        },
        {
          "output_type": "stream",
          "name": "stderr",
          "text": [
            "<ipython-input-123-49053c707bc8>:11: FutureWarning: The frame.append method is deprecated and will be removed from pandas in a future version. Use pandas.concat instead.\n",
            "  d = d.append(df.iloc[record], ignore_index = True)\n"
          ]
        },
        {
          "output_type": "stream",
          "name": "stdout",
          "text": [
            "Cluster at level 0 with 140 divided into 67 and 73 nodes.\n",
            "items : [0, 1, 2, 3, 4, 5, 6, 7, 8, 9, 10, 11, 12, 13, 14, 15, 16, 17, 18, 19, 20, 21, 22, 23, 24, 25, 26, 27, 28, 29, 30, 31, 32, 33, 34, 35, 36, 37, 38, 39, 40, 41, 42, 43, 44, 45, 46, 47, 48, 49, 50, 51, 52, 53, 54, 55, 56, 57, 58, 59, 60, 61, 62, 63, 64, 65, 66, 67, 68, 69, 70, 71, 72, 73, 74, 75, 76, 77, 78, 79, 80, 81, 82, 83, 84, 85, 86, 87, 88, 89, 90, 91, 92, 93, 94, 95, 96, 97, 98, 99, 100, 101, 102, 103, 104, 105, 106, 107, 108, 109, 110, 111, 112, 113, 114, 115, 116, 117, 118, 119, 120, 121, 122, 123, 124, 125, 126, 127, 128, 129, 130, 131, 132, 133, 134, 135, 136, 137, 138, 139]\n",
            "level : 0\n",
            "config : []\n",
            "\n",
            "Cluster at level 1 with 73 divided into 36 and 37 nodes.\n",
            "items : [0, 1, 2, 3, 4, 6, 7, 8, 9, 10, 11, 12, 13, 14, 15, 16, 18, 19, 20, 21, 22, 23, 27, 28, 29, 30, 32, 33, 34, 40, 43, 44, 48, 51, 53, 55, 58, 63, 65, 69, 70, 71, 72, 73, 74, 75, 76, 77, 78, 79, 80, 81, 82, 83, 84, 86, 87, 91, 92, 93, 94, 95, 96, 99, 103, 104, 108, 113, 115, 116, 119, 132, 138]\n",
            "level : 1\n",
            "config : [1]\n",
            "\n",
            "Cluster at level 2 with 36 divided into 17 and 19 nodes.\n",
            "items : [1, 2, 3, 4, 6, 9, 10, 14, 18, 20, 21, 22, 23, 27, 28, 29, 32, 33, 34, 43, 70, 72, 73, 74, 76, 77, 78, 79, 80, 81, 82, 83, 93, 96, 103, 104]\n",
            "level : 2\n",
            "config : [1, -1]\n",
            "\n",
            "Cluster at level 1 with 67 divided into 32 and 35 nodes.\n",
            "items : [5, 17, 24, 25, 26, 31, 35, 36, 37, 38, 39, 41, 42, 45, 46, 47, 49, 50, 52, 54, 56, 57, 59, 60, 61, 62, 64, 66, 67, 68, 85, 88, 89, 90, 97, 98, 100, 101, 102, 105, 106, 107, 109, 110, 111, 112, 114, 117, 118, 120, 121, 122, 123, 124, 125, 126, 127, 128, 129, 130, 131, 133, 134, 135, 136, 137, 139]\n",
            "level : 1\n",
            "config : [-1]\n",
            "\n",
            "Stared  40 nodes :  "
          ]
        },
        {
          "output_type": "stream",
          "name": "stderr",
          "text": [
            "<ipython-input-123-49053c707bc8>:11: FutureWarning: The frame.append method is deprecated and will be removed from pandas in a future version. Use pandas.concat instead.\n",
            "  d = d.append(df.iloc[record], ignore_index = True)\n"
          ]
        },
        {
          "output_type": "stream",
          "name": "stdout",
          "text": [
            "Cluster at level 0 with 160 divided into 98 and 62 nodes.\n",
            "items : [0, 1, 2, 3, 4, 5, 6, 7, 8, 9, 10, 11, 12, 13, 14, 15, 16, 17, 18, 19, 20, 21, 22, 23, 24, 25, 26, 27, 28, 29, 30, 31, 32, 33, 34, 35, 36, 37, 38, 39, 40, 41, 42, 43, 44, 45, 46, 47, 48, 49, 50, 51, 52, 53, 54, 55, 56, 57, 58, 59, 60, 61, 62, 63, 64, 65, 66, 67, 68, 69, 70, 71, 72, 73, 74, 75, 76, 77, 78, 79, 80, 81, 82, 83, 84, 85, 86, 87, 88, 89, 90, 91, 92, 93, 94, 95, 96, 97, 98, 99, 100, 101, 102, 103, 104, 105, 106, 107, 108, 109, 110, 111, 112, 113, 114, 115, 116, 117, 118, 119, 120, 121, 122, 123, 124, 125, 126, 127, 128, 129, 130, 131, 132, 133, 134, 135, 136, 137, 138, 139, 140, 141, 142, 143, 144, 145, 146, 147, 148, 149, 150, 151, 152, 153, 154, 155, 156, 157, 158, 159]\n",
            "level : 0\n",
            "config : []\n",
            "\n",
            "Cluster at level 1 with 62 divided into 27 and 35 nodes.\n",
            "items : [1, 2, 3, 4, 6, 7, 8, 9, 10, 11, 13, 14, 15, 16, 17, 18, 19, 22, 24, 25, 26, 27, 28, 30, 32, 33, 34, 35, 37, 38, 39, 40, 46, 47, 50, 55, 59, 68, 69, 73, 82, 86, 87, 88, 89, 91, 92, 99, 105, 106, 108, 112, 113, 124, 127, 130, 135, 138, 142, 144, 152, 156]\n",
            "level : 1\n",
            "config : [1]\n",
            "\n",
            "Cluster at level 1 with 98 divided into 55 and 43 nodes.\n",
            "items : [0, 5, 12, 20, 21, 23, 29, 31, 36, 41, 42, 43, 44, 45, 48, 49, 51, 52, 53, 54, 56, 57, 58, 60, 61, 62, 63, 64, 65, 66, 67, 70, 71, 72, 74, 75, 76, 77, 78, 79, 80, 81, 83, 84, 85, 90, 93, 94, 95, 96, 97, 98, 100, 101, 102, 103, 104, 107, 109, 110, 111, 114, 115, 116, 117, 118, 119, 120, 121, 122, 123, 125, 126, 128, 129, 131, 132, 133, 134, 136, 137, 139, 140, 141, 143, 145, 146, 147, 148, 149, 150, 151, 153, 154, 155, 157, 158, 159]\n",
            "level : 1\n",
            "config : [-1]\n",
            "\n",
            "Cluster at level 2 with 55 divided into 25 and 30 nodes.\n",
            "items : [0, 5, 12, 20, 21, 23, 36, 49, 57, 62, 70, 72, 75, 76, 79, 80, 81, 83, 84, 85, 90, 93, 94, 95, 96, 97, 98, 100, 101, 102, 103, 104, 107, 109, 110, 111, 114, 115, 116, 117, 118, 119, 120, 121, 125, 128, 131, 134, 136, 137, 145, 147, 155, 157, 158]\n",
            "level : 2\n",
            "config : [-1, -1]\n",
            "\n",
            "Stared  45 nodes :  "
          ]
        },
        {
          "output_type": "stream",
          "name": "stderr",
          "text": [
            "<ipython-input-123-49053c707bc8>:11: FutureWarning: The frame.append method is deprecated and will be removed from pandas in a future version. Use pandas.concat instead.\n",
            "  d = d.append(df.iloc[record], ignore_index = True)\n"
          ]
        },
        {
          "output_type": "stream",
          "name": "stdout",
          "text": [
            "Cluster at level 0 with 180 divided into 81 and 99 nodes.\n",
            "items : [0, 1, 2, 3, 4, 5, 6, 7, 8, 9, 10, 11, 12, 13, 14, 15, 16, 17, 18, 19, 20, 21, 22, 23, 24, 25, 26, 27, 28, 29, 30, 31, 32, 33, 34, 35, 36, 37, 38, 39, 40, 41, 42, 43, 44, 45, 46, 47, 48, 49, 50, 51, 52, 53, 54, 55, 56, 57, 58, 59, 60, 61, 62, 63, 64, 65, 66, 67, 68, 69, 70, 71, 72, 73, 74, 75, 76, 77, 78, 79, 80, 81, 82, 83, 84, 85, 86, 87, 88, 89, 90, 91, 92, 93, 94, 95, 96, 97, 98, 99, 100, 101, 102, 103, 104, 105, 106, 107, 108, 109, 110, 111, 112, 113, 114, 115, 116, 117, 118, 119, 120, 121, 122, 123, 124, 125, 126, 127, 128, 129, 130, 131, 132, 133, 134, 135, 136, 137, 138, 139, 140, 141, 142, 143, 144, 145, 146, 147, 148, 149, 150, 151, 152, 153, 154, 155, 156, 157, 158, 159, 160, 161, 162, 163, 164, 165, 166, 167, 168, 169, 170, 171, 172, 173, 174, 175, 176, 177, 178, 179]\n",
            "level : 0\n",
            "config : []\n",
            "\n",
            "Cluster at level 1 with 99 divided into 46 and 53 nodes.\n",
            "items : [5, 21, 28, 34, 36, 41, 45, 46, 47, 48, 49, 51, 52, 53, 56, 57, 58, 60, 61, 62, 63, 64, 66, 67, 68, 69, 70, 71, 72, 73, 74, 75, 76, 77, 81, 82, 83, 84, 85, 86, 87, 88, 89, 90, 91, 93, 96, 98, 100, 105, 108, 110, 111, 112, 113, 115, 116, 118, 119, 122, 124, 125, 126, 132, 133, 134, 135, 136, 137, 140, 141, 144, 146, 147, 148, 149, 150, 151, 152, 154, 155, 156, 158, 160, 161, 162, 163, 164, 165, 167, 168, 169, 170, 172, 173, 174, 175, 177, 179]\n",
            "level : 1\n",
            "config : [1]\n",
            "\n",
            "Cluster at level 1 with 81 divided into 37 and 44 nodes.\n",
            "items : [0, 1, 2, 3, 4, 6, 7, 8, 9, 10, 11, 12, 13, 14, 15, 16, 17, 18, 19, 20, 22, 23, 24, 25, 26, 27, 29, 30, 31, 32, 33, 35, 37, 38, 39, 40, 42, 43, 44, 50, 54, 55, 59, 65, 78, 79, 80, 92, 94, 95, 97, 99, 101, 102, 103, 104, 106, 107, 109, 114, 117, 120, 121, 123, 127, 128, 129, 130, 131, 138, 139, 142, 143, 145, 153, 157, 159, 166, 171, 176, 178]\n",
            "level : 1\n",
            "config : [-1]\n",
            "\n",
            "Cluster at level 2 with 46 divided into 20 and 26 nodes.\n",
            "items : [34, 36, 45, 46, 47, 48, 49, 51, 52, 53, 56, 57, 61, 62, 63, 64, 66, 69, 70, 73, 74, 76, 77, 81, 82, 83, 84, 85, 86, 88, 96, 122, 135, 137, 148, 150, 154, 155, 156, 158, 160, 161, 163, 168, 169, 174]\n",
            "level : 2\n",
            "config : [1, -1]\n",
            "\n",
            "Stared  50 nodes :  "
          ]
        },
        {
          "output_type": "stream",
          "name": "stderr",
          "text": [
            "<ipython-input-123-49053c707bc8>:11: FutureWarning: The frame.append method is deprecated and will be removed from pandas in a future version. Use pandas.concat instead.\n",
            "  d = d.append(df.iloc[record], ignore_index = True)\n"
          ]
        },
        {
          "output_type": "stream",
          "name": "stdout",
          "text": [
            "Cluster at level 0 with 200 divided into 111 and 89 nodes.\n",
            "items : [0, 1, 2, 3, 4, 5, 6, 7, 8, 9, 10, 11, 12, 13, 14, 15, 16, 17, 18, 19, 20, 21, 22, 23, 24, 25, 26, 27, 28, 29, 30, 31, 32, 33, 34, 35, 36, 37, 38, 39, 40, 41, 42, 43, 44, 45, 46, 47, 48, 49, 50, 51, 52, 53, 54, 55, 56, 57, 58, 59, 60, 61, 62, 63, 64, 65, 66, 67, 68, 69, 70, 71, 72, 73, 74, 75, 76, 77, 78, 79, 80, 81, 82, 83, 84, 85, 86, 87, 88, 89, 90, 91, 92, 93, 94, 95, 96, 97, 98, 99, 100, 101, 102, 103, 104, 105, 106, 107, 108, 109, 110, 111, 112, 113, 114, 115, 116, 117, 118, 119, 120, 121, 122, 123, 124, 125, 126, 127, 128, 129, 130, 131, 132, 133, 134, 135, 136, 137, 138, 139, 140, 141, 142, 143, 144, 145, 146, 147, 148, 149, 150, 151, 152, 153, 154, 155, 156, 157, 158, 159, 160, 161, 162, 163, 164, 165, 166, 167, 168, 169, 170, 171, 172, 173, 174, 175, 176, 177, 178, 179, 180, 181, 182, 183, 184, 185, 186, 187, 188, 189, 190, 191, 192, 193, 194, 195, 196, 197, 198, 199]\n",
            "level : 0\n",
            "config : []\n",
            "\n",
            "Cluster at level 1 with 111 divided into 61 and 50 nodes.\n",
            "items : [1, 2, 7, 8, 11, 12, 15, 16, 18, 19, 21, 23, 26, 27, 28, 31, 36, 39, 43, 44, 45, 49, 51, 52, 53, 54, 55, 56, 57, 58, 59, 60, 61, 62, 63, 65, 66, 67, 68, 69, 70, 71, 72, 73, 74, 75, 76, 78, 79, 80, 81, 83, 84, 85, 86, 87, 90, 91, 92, 93, 94, 95, 96, 97, 98, 106, 111, 125, 126, 131, 135, 139, 140, 147, 150, 152, 153, 156, 158, 159, 160, 161, 162, 163, 164, 165, 167, 168, 169, 170, 171, 173, 176, 178, 179, 180, 182, 183, 184, 185, 186, 187, 189, 190, 191, 192, 193, 194, 197, 198, 199]\n",
            "level : 1\n",
            "config : [-1]\n",
            "\n",
            "Cluster at level 1 with 89 divided into 38 and 51 nodes.\n",
            "items : [0, 3, 4, 5, 6, 9, 10, 13, 14, 17, 20, 22, 24, 25, 29, 30, 32, 33, 34, 35, 37, 38, 40, 41, 42, 46, 47, 48, 50, 64, 77, 82, 88, 89, 99, 100, 101, 102, 103, 104, 105, 107, 108, 109, 110, 112, 113, 114, 115, 116, 117, 118, 119, 120, 121, 122, 123, 124, 127, 128, 129, 130, 132, 133, 134, 136, 137, 138, 141, 142, 143, 144, 145, 146, 148, 149, 151, 154, 155, 157, 166, 172, 174, 175, 177, 181, 188, 195, 196]\n",
            "level : 1\n",
            "config : [1]\n",
            "\n",
            "Cluster at level 2 with 51 divided into 25 and 26 nodes.\n",
            "items : [0, 5, 22, 24, 29, 40, 46, 64, 77, 82, 99, 100, 101, 102, 103, 104, 107, 108, 109, 110, 112, 113, 114, 115, 118, 119, 120, 121, 122, 123, 124, 127, 128, 130, 132, 133, 134, 136, 137, 138, 141, 143, 144, 145, 146, 148, 149, 151, 155, 166, 195]\n",
            "level : 2\n",
            "config : [1, 1]\n",
            "\n"
          ]
        }
      ]
    },
    {
      "cell_type": "code",
      "source": [
        "sdpDict"
      ],
      "metadata": {
        "colab": {
          "base_uri": "https://localhost:8080/"
        },
        "id": "OGU-j4WoX-a5",
        "outputId": "bc31b722-a98d-406c-c7fe-5e2d21bd047b"
      },
      "execution_count": null,
      "outputs": [
        {
          "output_type": "execute_result",
          "data": {
            "text/plain": [
              "{100: 9.831706523895264,\n",
              " 120: 22.02559471130371,\n",
              " 140: 15.51340651512146,\n",
              " 160: 91.09888768196106,\n",
              " 180: 128.98459720611572,\n",
              " 200: 121.09773278236389}"
            ]
          },
          "metadata": {},
          "execution_count": 124
        }
      ]
    },
    {
      "cell_type": "code",
      "source": [],
      "metadata": {
        "id": "FPnnQ4hDa1a3"
      },
      "execution_count": null,
      "outputs": []
    },
    {
      "cell_type": "markdown",
      "source": [
        "## Vislualizatoin"
      ],
      "metadata": {
        "id": "r1Z0eWePa3G2"
      }
    },
    {
      "cell_type": "code",
      "source": [],
      "metadata": {
        "id": "mppbxegha1xe"
      },
      "execution_count": null,
      "outputs": []
    },
    {
      "cell_type": "code",
      "source": [],
      "metadata": {
        "id": "in0flcWwa1G4"
      },
      "execution_count": null,
      "outputs": []
    },
    {
      "cell_type": "code",
      "source": [],
      "metadata": {
        "id": "_vhdcW1Ea0yW"
      },
      "execution_count": null,
      "outputs": []
    },
    {
      "cell_type": "code",
      "source": [],
      "metadata": {
        "id": "x8sT5AgFa0cZ"
      },
      "execution_count": null,
      "outputs": []
    },
    {
      "cell_type": "code",
      "source": [],
      "metadata": {
        "id": "xrFBaLMqZrC9"
      },
      "execution_count": null,
      "outputs": []
    },
    {
      "cell_type": "code",
      "source": [
        "fig = plt.figure(figsize=(8, 8))\n",
        "axes = fig.add_axes([0.1, 0.1, 0.8, 0.8])\n",
        "axes.plot(tsallisDict.keys(), tsallisDict.values(), 'r')\n",
        "axes.plot(renyiDict.keys(), renyiDict.values(), 'b')\n",
        "axes.plot(sdpDict.keys(), sdpDict.values(), 'g')\n",
        "plt.legend([\"EP-SDP : Tsallis Entropy\", \"EP-SDP : Renyi Entropy\", 'SDP'])\n",
        "axes.set_xlabel('Number of Documents')\n",
        "axes.set_ylabel('Time taken (in seconds)')\n",
        "axes.set_title('Running Times')"
      ],
      "metadata": {
        "colab": {
          "base_uri": "https://localhost:8080/",
          "height": 755
        },
        "id": "SHIcGFcWcUIa",
        "outputId": "55d826c3-6809-412f-c91f-bc41e8b49d3f"
      },
      "execution_count": null,
      "outputs": [
        {
          "output_type": "execute_result",
          "data": {
            "text/plain": [
              "Text(0.5, 1.0, 'Running Times')"
            ]
          },
          "metadata": {},
          "execution_count": 134
        },
        {
          "output_type": "display_data",
          "data": {
            "text/plain": [
              "<Figure size 800x800 with 1 Axes>"
            ],
            "image/png": "[encoded data removed]"
          },
          "metadata": {}
        }
      ]
    },
    {
      "cell_type": "code",
      "source": [],
      "metadata": {
        "id": "YWDZ5biuc_Fl"
      },
      "execution_count": null,
      "outputs": []
    }
  ]
}